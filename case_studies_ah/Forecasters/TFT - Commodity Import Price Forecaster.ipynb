{
 "cells": [
  {
   "cell_type": "markdown",
   "id": "c3730c80",
   "metadata": {},
   "source": [
    "## Install Required Packages"
   ]
  },
  {
   "cell_type": "code",
   "execution_count": 71,
   "id": "9d3c50ee",
   "metadata": {},
   "outputs": [],
   "source": [
    "import os\n",
    "import warnings\n",
    "\n",
    "warnings.filterwarnings(\"ignore\")  # avoid printing out absolute paths\n",
    "os.chdir(\"/Users/yuanliu/Documents/Erasmus University/MSc Quantitive Marketing and Business Analytics/P3/Seminar Case Study/Data/case_studies_ah/\")"
   ]
  },
  {
   "cell_type": "code",
   "execution_count": 72,
   "id": "43f45f27",
   "metadata": {},
   "outputs": [],
   "source": [
    "%%capture \n",
    "pip install pyarrow"
   ]
  },
  {
   "cell_type": "code",
   "execution_count": 73,
   "id": "a0520468",
   "metadata": {},
   "outputs": [],
   "source": [
    "%%capture \n",
    "pip install fastparquet"
   ]
  },
  {
   "cell_type": "code",
   "execution_count": 74,
   "id": "2fc3c36e",
   "metadata": {},
   "outputs": [],
   "source": [
    "%%capture\n",
    "pip install ipywidget"
   ]
  },
  {
   "cell_type": "markdown",
   "id": "55ced9ed",
   "metadata": {},
   "source": [
    "## Import Libraries"
   ]
  },
  {
   "cell_type": "code",
   "execution_count": 165,
   "id": "a33ea867",
   "metadata": {},
   "outputs": [],
   "source": [
    "import copy\n",
    "from pathlib import Path\n",
    "import warnings\n",
    "import datetime\n",
    "\n",
    "from matplotlib import pyplot as plt\n",
    "\n",
    "import numpy as np\n",
    "import pandas as pd\n",
    "import pytorch_lightning as pl\n",
    "from pytorch_lightning.callbacks import EarlyStopping, LearningRateMonitor\n",
    "from pytorch_lightning.loggers import TensorBoardLogger\n",
    "import torch\n",
    "\n",
    "from pytorch_forecasting import Baseline, TemporalFusionTransformer, TimeSeriesDataSet\n",
    "from pytorch_forecasting.data import GroupNormalizer, EncoderNormalizer\n",
    "from pytorch_forecasting.metrics import SMAPE, PoissonLoss, QuantileLoss\n",
    "from pytorch_forecasting.models.temporal_fusion_transformer.tuning import optimize_hyperparameters\n",
    "\n",
    "import ipywidgets as widgets\n",
    "from ipywidgets import HBox, VBox\n",
    "from IPython.display import display\n",
    "\n",
    "from sklearn.metrics import mean_absolute_percentage_error\n",
    "\n",
    "plt.style.use('ggplot')\n",
    "\n",
    "colors = plt.cm.Spectral(np.linspace(0,1,30))\n",
    "plt.rcParams[\"figure.figsize\"] = (20,5)\n",
    "\n",
    "# Set Seeds\n",
    "seed_no = 7\n",
    "np.random.seed(seed_no)\n",
    "torch.manual_seed(seed_no);"
   ]
  },
  {
   "cell_type": "markdown",
   "id": "ada4e8ae",
   "metadata": {},
   "source": [
    "## Import Data\n",
    "This notebook works the same for all three commodities, first we define the commodity of interest. Choices:\n",
    "- SUNFLOWER OIL\n",
    "- MAIZE\n",
    "- WHEAT"
   ]
  },
  {
   "cell_type": "code",
   "execution_count": 166,
   "id": "0c7ab1fc",
   "metadata": {},
   "outputs": [],
   "source": [
    "product_type = \"MAIZE\"\n",
    "date_filter = datetime.date(year = 2018, month = 1, day = 1)\n",
    "date_end = datetime.date(year = 2022, month = 10, day = 1)"
   ]
  },
  {
   "cell_type": "code",
   "execution_count": 167,
   "id": "82240aa8",
   "metadata": {},
   "outputs": [],
   "source": [
    "# load data from target commodity\n",
    "if product_type == \"WHEAT\":\n",
    "    trade_data = pd.read_csv(\"Data/wheat.csv\")\n",
    "    \n",
    "if product_type == \"MAIZE\":\n",
    "    trade_data = pd.read_csv(\"Data/maize_corn.csv\")\n",
    "    \n",
    "if product_type == \"SUNFLOWER OIL\":\n",
    "    trade_data = pd.read_csv(\"Data/sunflower_oil.csv\")\n",
    "    \n",
    "# Add Time Period steps\n",
    "trade_data[\"TIME_PERIOD\"] = pd.to_datetime(trade_data[\"TIME_PERIOD\"], format = '%Y-%m').dt.date\n",
    "trade_data = trade_data.rename(columns={\"partner\": \"PARTNER_codes\", \"declarant\": \"DECLARANT_codes\"})\n",
    "\n",
    "# Make sure that the right product is isolated\n",
    "products = trade_data[\"product\"].drop_duplicates().to_list()\n",
    "\n",
    "if product_type == 'SUNFLOWER OIL' or product_type == 'MAIZE':\n",
    "    product_filter = products[0]\n",
    "\n",
    "if product_type == 'WHEAT':\n",
    "    product_filter = products[1]\n",
    "        \n",
    "# Add correct labels to the partner and declarent indices\n",
    "    \n",
    "partner_countries = pd.read_csv(\"Data/partners.csv\", sep = \";\")\n",
    "trade_data = pd.merge(trade_data, partner_countries, on = ['PARTNER_codes'], how = 'inner')\n",
    "\n",
    "trade_data_pivot = trade_data.pivot(index=['PARTNER_Labels', 'TIME_PERIOD', 'product'], \n",
    "                              columns='indicators', \n",
    "                              values=['OBS_VALUE'])\n",
    "\n",
    "trade_data_pivot.columns = trade_data_pivot.columns.map('_'.join)\n",
    "trade_data_pivot = trade_data_pivot.reset_index()\n",
    "trade_data_pivot = trade_data_pivot.dropna()\n",
    "\n",
    "# Dataframe for total trade data per month which we are forecasting\n",
    "trade_data_total = trade_data_pivot\\\n",
    ".groupby(['product', 'TIME_PERIOD']).agg({'OBS_VALUE_QUANTITY_TON': 'sum', \n",
    "                                          'OBS_VALUE_VALUE_1000EURO': 'sum'})\n",
    "\n",
    "trade_data_total = trade_data_total.reset_index()\n",
    "trade_data_total['price'] = trade_data_total['OBS_VALUE_VALUE_1000EURO']/trade_data_total['OBS_VALUE_QUANTITY_TON']\n",
    "trade_data_total = trade_data_total[(trade_data_total[\"product\"] == product_filter)]\n",
    "\n",
    "trade_data_total = trade_data_total.set_index(\"TIME_PERIOD\")\n",
    "trade_data_total = trade_data_total[(trade_data_total.index >= date_filter)]\n",
    "\n",
    "# Add 2 month rolling average for later validation\n",
    "trade_data_total['MA2'] = trade_data_total[\"price\"].rolling(window=2).mean()\n",
    "trade_data_total['MA3'] = trade_data_total[\"price\"].rolling(window=3).mean()\n",
    "\n",
    "# Import other commodities and use same procedure\n",
    "oil_data = pd.read_csv(\"Data/CMO-Historical-Data-Monthly.csv\", header = 6)\n",
    "oil_data = oil_data.rename(columns = {\"Unnamed: 0\" : \"TIME_PERIOD\"})\n",
    "oil_data['TIME_PERIOD'] = oil_data['TIME_PERIOD'].str.replace(r'M', '-')\n",
    "oil_data[\"TIME_PERIOD\"] = pd.to_datetime(oil_data[\"TIME_PERIOD\"], format = '%Y-%m').dt.date\n",
    "to_replace = oil_data[\"SUNFLOWER_OIL\"].iloc[0]\n",
    "oil_data = oil_data.replace(to_replace, 0)\n",
    "oil_data = oil_data.drop_duplicates()\n",
    "oil_data = oil_data.set_index(\"TIME_PERIOD\")\n",
    "oil_data = oil_data[(oil_data.index >= date_filter) & (oil_data.index <= date_end)]\n",
    "\n",
    "# Isolate Ukraine - Netherlands Import data for later use\n",
    "Ukr_Data = trade_data_pivot[(trade_data_pivot['PARTNER_Labels']=='Ukraine') & (trade_data_pivot[\"product\"] == product_filter) & (trade_data_pivot[\"TIME_PERIOD\"] >= date_filter)][['TIME_PERIOD','OBS_VALUE_QUANTITY_TON']]\n",
    "Ukr_Data = Ukr_Data.set_index(\"TIME_PERIOD\")\n",
    "Ukr_Data = Ukr_Data.rename(columns = {\"OBS_VALUE_QUANTITY_TON\" : \"UKR_QUANTITY\"})\n",
    "trade_data_total['UKR_QUANTITY'] = Ukr_Data['UKR_QUANTITY']\n",
    "trade_data_total = trade_data_total.fillna(0)\n",
    "\n",
    "# Import NOAA weather data\n",
    "weather_data = pd.read_csv(\"Data/global_temperature_data.csv\")\n",
    "weather_data = weather_data.rename(columns = {\"yearmonth\" : \"TIME_PERIOD\"})\n",
    "weather_data[\"TIME_PERIOD\"] = pd.to_datetime(weather_data[\"TIME_PERIOD\"], format = '%Y%m').dt.date\n",
    "weather_data = weather_data.set_index(\"TIME_PERIOD\")\n",
    "weather_data = weather_data[(weather_data.index >= date_filter) & (weather_data.index <= date_end)]\n",
    "\n",
    "weather_ukr = weather_data[weather_data['weather_countryname'] == 'Ukraine']\n",
    "weather_fr = weather_data[weather_data['weather_countryname'] == 'France']\n",
    "weather_ger = weather_data[weather_data['weather_countryname'] == 'Germany']\n",
    "\n",
    "# Merge data to one frame \n",
    "data = trade_data_total.merge(oil_data, on = 'TIME_PERIOD')\n",
    "data = data[data.columns.drop(list(data.filter(regex='Unnamed')))]\n",
    "\n",
    "data['UKRMA3'] = trade_data_total[\"UKR_QUANTITY\"].rolling(window=3).mean()\n",
    "\n",
    "data['avgTempUkr'] = weather_ukr[\"AVG_TAVG\"] / 10\n",
    "data['avgTempFr'] = weather_fr[\"AVG_TAVG\"] / 10\n",
    "data['avgTempGer'] = weather_ger[\"AVG_TAVG\"] / 10\n"
   ]
  },
  {
   "cell_type": "markdown",
   "id": "43b663a9",
   "metadata": {},
   "source": [
    "Add date variables"
   ]
  },
  {
   "cell_type": "code",
   "execution_count": 168,
   "id": "375f7720",
   "metadata": {},
   "outputs": [],
   "source": [
    "data['product'] = data['product'].astype(str)\n",
    "data['timeidx'] = range(len(data))\n",
    "\n",
    "data['year'] = pd.DatetimeIndex(data.index).year.astype(str).astype('category')\n",
    "data['month'] = pd.DatetimeIndex(data.index).month.astype(str).astype('category')\n",
    "\n",
    "test_split = datetime.date(year = 2021, month = 1, day = 1)\n",
    "training_data = data[(data.index < test_split)]\n",
    "\n",
    "# Add MA2 \n",
    "data['NGAS_EUR_MA2'] = data[\"NGAS_EUR\"].rolling(window=2).mean()\n",
    "data['CRUDE_PETRO_MA2'] = data[\"CRUDE_PETRO\"].rolling(window=2).mean()"
   ]
  },
  {
   "cell_type": "code",
   "execution_count": 169,
   "id": "ac0999b9",
   "metadata": {},
   "outputs": [
    {
     "data": {
      "image/png": "[encoded data removed]",
      "text/plain": [
       "<Figure size 2000x500 with 1 Axes>"
      ]
     },
     "metadata": {},
     "output_type": "display_data"
    },
    {
     "data": {
      "image/png": "[encoded data removed]",
      "text/plain": [
       "<Figure size 2000x500 with 1 Axes>"
      ]
     },
     "metadata": {},
     "output_type": "display_data"
    }
   ],
   "source": [
    "data[['price']].plot();\n",
    "data[['NGAS_EUR', 'CRUDE_PETRO']].plot();"
   ]
  },
  {
   "cell_type": "markdown",
   "id": "59e71579",
   "metadata": {},
   "source": [
    "## Set-up Model"
   ]
  },
  {
   "cell_type": "markdown",
   "id": "df5f7c58",
   "metadata": {},
   "source": [
    "Select the validation window (max_prediction_length) consisting of the number of final months of the war and the training window (max_encoder_length)\n",
    "\n",
    "Notes:\n",
    "- If validating: max_prediction_length gives the number of months to forecast at the end of the war\n",
    "- If out of sample forecast: max_prediction length should be set to 6\n",
    "- trainig_cutoff should be set to the upper value if validating, otherwise it is the length of the reduced dataset - months in to war speaks for itself, if we are less far into the war we have less training data and shoul drop some months "
   ]
  },
  {
   "cell_type": "code",
   "execution_count": 170,
   "id": "4cc7e0c3",
   "metadata": {},
   "outputs": [],
   "source": [
    "max_prediction_length = 6\n",
    "max_encoder_length = 18 # 18 for scenario forecasting\n",
    "\n",
    "# Set to len(data) - max_prediction_lenth if we want to assess in sample loss\n",
    "training_cutoff = len(data)\n",
    "target_feat = \"price\" #price, MA2\n",
    "\n",
    "# For in sample validation, set to end of war (7) and control the forecast window with max_prediction_length\n",
    "months_into_war = 7\n",
    "months_to_drop = 7 - months_into_war\n",
    "\n",
    "if months_to_drop == 0:\n",
    "    reduced_data_set = data.copy()\n",
    "\n",
    "else:\n",
    "    reduced_data_set = data.head(- months_to_drop)\n",
    "\n",
    "# Uncomment if not validating\n",
    "# training_cutoff = len(reduced_data_set) \n",
    "\n",
    "\n",
    "if target_feat == \"MA2\":\n",
    "    reduced_data_set = reduced_data_set.iloc[3:]\n",
    "\n",
    "if target_feat == \"MA6\":\n",
    "    reduced_data_set = reduced_data_set.iloc[6:]\n",
    "\n",
    "    \n",
    "training = TimeSeriesDataSet(\n",
    "    # SWITCHED FROM DATA\n",
    "    reduced_data_set[lambda x: x.timeidx <= training_cutoff],\n",
    "    time_idx=\"timeidx\",\n",
    "    target=target_feat,\n",
    "    group_ids=[\"product\"],\n",
    "    min_encoder_length=max_encoder_length // 2,  # keep encoder length long (as it is in the validation set)\n",
    "    max_encoder_length=max_encoder_length,\n",
    "    min_prediction_length=1,\n",
    "    max_prediction_length=max_prediction_length,\n",
    "    static_categoricals=[\"product\"],\n",
    "    static_reals=[],\n",
    "    time_varying_known_categoricals=[\"month\"],\n",
    "    time_varying_known_reals= [\n",
    "        \"timeidx\", \n",
    "        \"NGAS_EUR\", \n",
    "        \"CRUDE_PETRO\", \n",
    "        \"UKR_QUANTITY\"\n",
    "    ],\n",
    "    time_varying_unknown_categoricals=[],\n",
    "    time_varying_unknown_reals=[\n",
    "        target_feat,\n",
    "        \"OBS_VALUE_QUANTITY_TON\",\n",
    "        \"OBS_VALUE_VALUE_1000EURO\",\n",
    "        \"MAIZE\",\n",
    "        \"WHEAT_US_HRW\",\n",
    "        \"SUNFLOWER_OIL\",\n",
    "    ],\n",
    "    target_normalizer=GroupNormalizer(\n",
    "        # Earlier GroupNormalizer\n",
    "        groups=[\"product\"], transformation=\"softplus\"\n",
    "    ),  # use softplus and normalize by group\n",
    "    add_relative_time_idx=True,\n",
    "    add_target_scales=True,\n",
    "    add_encoder_length=True\n",
    ")\n",
    "\n",
    "# create validation set (predict=True) which means to predict the last max_prediction_length points in time\n",
    "# for each series\\\n",
    "validation = TimeSeriesDataSet.from_dataset(training, reduced_data_set, predict=True, stop_randomization=True)\n",
    "\n",
    "# SWITCHED FROM DATA\n",
    "# validation = TimeSeriesDataSet.from_dataset(training, data, predict=True, stop_randomization=True)\n",
    "\n",
    "# create seeded dataloaders\n",
    "def seed_worker(worker_id):\n",
    "    worker_seed = torch.initial_seed() % 2**32\n",
    "    numpy.random.seed(worker_seed)\n",
    "    random.seed(worker_seed)\n",
    "\n",
    "g = torch.Generator()\n",
    "g.manual_seed(seed_no)\n",
    "\n",
    "batch_size = 128  # set this between 32 to 128\n",
    "train_dataloader = training.to_dataloader(train=True, batch_size=batch_size, num_workers=0, worker_init_fn=seed_worker,\n",
    "    generator=g)\n",
    "val_dataloader = validation.to_dataloader(train=False, batch_size=batch_size * 10, num_workers=0, worker_init_fn=seed_worker,\n",
    "    generator=g)\n"
   ]
  },
  {
   "cell_type": "markdown",
   "id": "d23ca0af",
   "metadata": {},
   "source": [
    "## Hyperparameter Tuning"
   ]
  },
  {
   "cell_type": "code",
   "execution_count": 56,
   "id": "735083a6",
   "metadata": {},
   "outputs": [
    {
     "name": "stderr",
     "output_type": "stream",
     "text": [
      "\u001b[32m[I 2023-03-06 18:13:27,458]\u001b[0m A new study created in memory with name: no-name-ae32d4f6-5c08-4c21-80ab-ba07e383c224\u001b[0m\n",
      "GPU available: True (mps), used: False\n",
      "TPU available: False, using: 0 TPU cores\n",
      "IPU available: False, using: 0 IPUs\n",
      "HPU available: False, using: 0 HPUs\n",
      "\u001b[32m[I 2023-03-06 18:13:33,887]\u001b[0m Trial 0 finished with value: 0.21196967363357544 and parameters: {'gradient_clip_val': 0.8206920860560911, 'hidden_size': 113, 'dropout': 0.1589476160878373, 'hidden_continuous_size': 9, 'attention_head_size': 2, 'learning_rate': 0.0029206907156990275}. Best is trial 0 with value: 0.21196967363357544.\u001b[0m\n",
      "GPU available: True (mps), used: False\n",
      "TPU available: False, using: 0 TPU cores\n",
      "IPU available: False, using: 0 IPUs\n",
      "HPU available: False, using: 0 HPUs\n",
      "\u001b[33m[W 2023-03-06 18:13:34,015]\u001b[0m Trial 1 failed because of the following error: IndexError('list index out of range')\u001b[0m\n",
      "Traceback (most recent call last):\n",
      "  File \"/Users/yuanliu/opt/anaconda3/lib/python3.9/site-packages/optuna/study/_optimize.py\", line 213, in _run_trial\n",
      "    value_or_values = func(trial)\n",
      "  File \"/Users/yuanliu/opt/anaconda3/lib/python3.9/site-packages/pytorch_forecasting/models/temporal_fusion_transformer/tuning.py\", line 212, in objective\n",
      "    return metrics_callback.metrics[-1][\"val_loss\"].item()\n",
      "IndexError: list index out of range\n",
      "\n",
      "KeyboardInterrupt\n",
      "\n"
     ]
    }
   ],
   "source": [
    "import pickle\n",
    "from pytorch_forecasting.models.temporal_fusion_transformer.tuning import optimize_hyperparameters\n",
    "\n",
    "# create study\n",
    "study = optimize_hyperparameters(\n",
    "    train_dataloader,\n",
    "    val_dataloader,\n",
    "    model_path=\"optuna_test\",\n",
    "    n_trials=300,\n",
    "    max_epochs=50,\n",
    "    gradient_clip_val_range=(0.01, 1.0),\n",
    "    hidden_size_range=(8, 128),\n",
    "    hidden_continuous_size_range=(8, 128),\n",
    "    attention_head_size_range=(1, 4),\n",
    "    learning_rate_range=(0.001, 0.1),\n",
    "    dropout_range=(0.1, 0.3),\n",
    "    trainer_kwargs=dict(limit_train_batches=60),\n",
    "    reduce_on_plateau_patience=4,\n",
    "    use_learning_rate_finder=False,  # use Optuna to find ideal learning rate or use in-built learning rate finder\n",
    ")\n",
    "\n",
    "# show best hyperparameters\n",
    "print(study.best_trial.params)\n",
    "print(study.best_trial.value);"
   ]
  },
  {
   "cell_type": "markdown",
   "id": "ff19328e",
   "metadata": {},
   "source": [
    "## Save Best Results"
   ]
  },
  {
   "cell_type": "markdown",
   "id": "aea20065",
   "metadata": {},
   "source": [
    "### For in-sample validation:\n",
    "Uncomment below when using the hyperparameter optimization tool above"
   ]
  },
  {
   "cell_type": "code",
   "execution_count": 137,
   "id": "dc6a4edf",
   "metadata": {},
   "outputs": [],
   "source": [
    "# res = study.best_trial.params\n",
    "\n",
    "\n",
    "# gradient_clip_val = res['gradient_clip_val']\n",
    "# hidden_size = res['hidden_size']\n",
    "# dropout = res['dropout']\n",
    "# hidden_continuous_size = res['hidden_continuous_size']\n",
    "# attention_head_size = res['attention_head_size']\n",
    "# learning_rate = res['learning_rate']"
   ]
  },
  {
   "cell_type": "markdown",
   "id": "770c3e64",
   "metadata": {},
   "source": [
    "### For scenario forecasting:\n",
    "Use best hyperparameter configurations found per target commodity "
   ]
  },
  {
   "cell_type": "code",
   "execution_count": 171,
   "id": "8f869c46",
   "metadata": {},
   "outputs": [],
   "source": [
    "# load data from target commodity\n",
    "if product_type == \"WHEAT\":\n",
    "    res = [0.756836784, 80, 0.206806068, 49, 2, 0.071267492]\n",
    "    \n",
    "if product_type == \"MAIZE\":\n",
    "    res = [0.464546909, 46, 0.184018151, 18, 3, 0.019534113]\n",
    "    \n",
    "if product_type == \"SUNFLOWER OIL\":\n",
    "    res = [0.379754699, 118, 0.14986229, 61, 4, 0.082224116]\n",
    "                             \n",
    "gradient_clip_val = res[0]\n",
    "hidden_size = res[1]\n",
    "dropout = res[2]\n",
    "hidden_continuous_size = res[3]\n",
    "attention_head_size = res[4]\n",
    "learning_rate = res[5]"
   ]
  },
  {
   "cell_type": "markdown",
   "id": "1ef136b0",
   "metadata": {},
   "source": [
    "## Configure Network and Trainer\n",
    "Set early stopping mechanism on too small (1e-4) quantile loss in 10 steps and set the loggers"
   ]
  },
  {
   "cell_type": "code",
   "execution_count": 176,
   "id": "71b6a487",
   "metadata": {
    "scrolled": true
   },
   "outputs": [
    {
     "name": "stderr",
     "output_type": "stream",
     "text": [
      "GPU available: True (mps), used: False\n",
      "TPU available: False, using: 0 TPU cores\n",
      "IPU available: False, using: 0 IPUs\n",
      "HPU available: False, using: 0 HPUs\n",
      "\n",
      "   | Name                               | Type                            | Params\n",
      "----------------------------------------------------------------------------------------\n",
      "0  | loss                               | QuantileLoss                    | 0     \n",
      "1  | logging_metrics                    | ModuleList                      | 0     \n",
      "2  | input_embeddings                   | MultiEmbedding                  | 73    \n",
      "3  | prescalers                         | ModuleDict                      | 504   \n",
      "4  | static_variable_selection          | VariableSelectionNetwork        | 8.5 K \n",
      "5  | encoder_variable_selection         | VariableSelectionNetwork        | 33.4 K\n",
      "6  | decoder_variable_selection         | VariableSelectionNetwork        | 14.6 K\n",
      "7  | static_context_variable_selection  | GatedResidualNetwork            | 8.7 K \n",
      "8  | static_context_initial_hidden_lstm | GatedResidualNetwork            | 8.7 K \n",
      "9  | static_context_initial_cell_lstm   | GatedResidualNetwork            | 8.7 K \n",
      "10 | static_context_enrichment          | GatedResidualNetwork            | 8.7 K \n",
      "11 | lstm_encoder                       | LSTM                            | 17.3 K\n",
      "12 | lstm_decoder                       | LSTM                            | 17.3 K\n",
      "13 | post_lstm_gate_encoder             | GatedLinearUnit                 | 4.3 K \n",
      "14 | post_lstm_add_norm_encoder         | AddNorm                         | 92    \n",
      "15 | static_enrichment                  | GatedResidualNetwork            | 10.9 K\n",
      "16 | multihead_attn                     | InterpretableMultiHeadAttention | 5.6 K \n",
      "17 | post_attn_gate_norm                | GateAddNorm                     | 4.4 K \n",
      "18 | pos_wise_ff                        | GatedResidualNetwork            | 8.7 K \n",
      "19 | pre_output_gate_norm               | GateAddNorm                     | 4.4 K \n",
      "20 | output_layer                       | Linear                          | 329   \n",
      "----------------------------------------------------------------------------------------\n",
      "164 K     Trainable params\n",
      "0         Non-trainable params\n",
      "164 K     Total params\n",
      "0.659     Total estimated model params size (MB)\n"
     ]
    },
    {
     "data": {
      "application/vnd.jupyter.widget-view+json": {
       "model_id": "",
       "version_major": 2,
       "version_minor": 0
      },
      "text/plain": [
       "Sanity Checking: 0it [00:00, ?it/s]"
      ]
     },
     "metadata": {},
     "output_type": "display_data"
    },
    {
     "data": {
      "application/vnd.jupyter.widget-view+json": {
       "model_id": "b5278e53d16a44ae89708d762163583e",
       "version_major": 2,
       "version_minor": 0
      },
      "text/plain": [
       "Training: 0it [00:00, ?it/s]"
      ]
     },
     "metadata": {},
     "output_type": "display_data"
    },
    {
     "data": {
      "application/vnd.jupyter.widget-view+json": {
       "model_id": "",
       "version_major": 2,
       "version_minor": 0
      },
      "text/plain": [
       "Validation: 0it [00:00, ?it/s]"
      ]
     },
     "metadata": {},
     "output_type": "display_data"
    },
    {
     "data": {
      "application/vnd.jupyter.widget-view+json": {
       "model_id": "",
       "version_major": 2,
       "version_minor": 0
      },
      "text/plain": [
       "Validation: 0it [00:00, ?it/s]"
      ]
     },
     "metadata": {},
     "output_type": "display_data"
    },
    {
     "data": {
      "application/vnd.jupyter.widget-view+json": {
       "model_id": "",
       "version_major": 2,
       "version_minor": 0
      },
      "text/plain": [
       "Validation: 0it [00:00, ?it/s]"
      ]
     },
     "metadata": {},
     "output_type": "display_data"
    },
    {
     "data": {
      "application/vnd.jupyter.widget-view+json": {
       "model_id": "",
       "version_major": 2,
       "version_minor": 0
      },
      "text/plain": [
       "Validation: 0it [00:00, ?it/s]"
      ]
     },
     "metadata": {},
     "output_type": "display_data"
    },
    {
     "data": {
      "application/vnd.jupyter.widget-view+json": {
       "model_id": "",
       "version_major": 2,
       "version_minor": 0
      },
      "text/plain": [
       "Validation: 0it [00:00, ?it/s]"
      ]
     },
     "metadata": {},
     "output_type": "display_data"
    },
    {
     "data": {
      "application/vnd.jupyter.widget-view+json": {
       "model_id": "",
       "version_major": 2,
       "version_minor": 0
      },
      "text/plain": [
       "Validation: 0it [00:00, ?it/s]"
      ]
     },
     "metadata": {},
     "output_type": "display_data"
    },
    {
     "data": {
      "application/vnd.jupyter.widget-view+json": {
       "model_id": "",
       "version_major": 2,
       "version_minor": 0
      },
      "text/plain": [
       "Validation: 0it [00:00, ?it/s]"
      ]
     },
     "metadata": {},
     "output_type": "display_data"
    },
    {
     "data": {
      "application/vnd.jupyter.widget-view+json": {
       "model_id": "",
       "version_major": 2,
       "version_minor": 0
      },
      "text/plain": [
       "Validation: 0it [00:00, ?it/s]"
      ]
     },
     "metadata": {},
     "output_type": "display_data"
    },
    {
     "data": {
      "application/vnd.jupyter.widget-view+json": {
       "model_id": "",
       "version_major": 2,
       "version_minor": 0
      },
      "text/plain": [
       "Validation: 0it [00:00, ?it/s]"
      ]
     },
     "metadata": {},
     "output_type": "display_data"
    },
    {
     "data": {
      "application/vnd.jupyter.widget-view+json": {
       "model_id": "",
       "version_major": 2,
       "version_minor": 0
      },
      "text/plain": [
       "Validation: 0it [00:00, ?it/s]"
      ]
     },
     "metadata": {},
     "output_type": "display_data"
    },
    {
     "data": {
      "application/vnd.jupyter.widget-view+json": {
       "model_id": "",
       "version_major": 2,
       "version_minor": 0
      },
      "text/plain": [
       "Validation: 0it [00:00, ?it/s]"
      ]
     },
     "metadata": {},
     "output_type": "display_data"
    },
    {
     "data": {
      "application/vnd.jupyter.widget-view+json": {
       "model_id": "",
       "version_major": 2,
       "version_minor": 0
      },
      "text/plain": [
       "Validation: 0it [00:00, ?it/s]"
      ]
     },
     "metadata": {},
     "output_type": "display_data"
    },
    {
     "data": {
      "application/vnd.jupyter.widget-view+json": {
       "model_id": "",
       "version_major": 2,
       "version_minor": 0
      },
      "text/plain": [
       "Validation: 0it [00:00, ?it/s]"
      ]
     },
     "metadata": {},
     "output_type": "display_data"
    },
    {
     "data": {
      "application/vnd.jupyter.widget-view+json": {
       "model_id": "",
       "version_major": 2,
       "version_minor": 0
      },
      "text/plain": [
       "Validation: 0it [00:00, ?it/s]"
      ]
     },
     "metadata": {},
     "output_type": "display_data"
    },
    {
     "data": {
      "application/vnd.jupyter.widget-view+json": {
       "model_id": "",
       "version_major": 2,
       "version_minor": 0
      },
      "text/plain": [
       "Validation: 0it [00:00, ?it/s]"
      ]
     },
     "metadata": {},
     "output_type": "display_data"
    },
    {
     "data": {
      "application/vnd.jupyter.widget-view+json": {
       "model_id": "",
       "version_major": 2,
       "version_minor": 0
      },
      "text/plain": [
       "Validation: 0it [00:00, ?it/s]"
      ]
     },
     "metadata": {},
     "output_type": "display_data"
    },
    {
     "data": {
      "application/vnd.jupyter.widget-view+json": {
       "model_id": "",
       "version_major": 2,
       "version_minor": 0
      },
      "text/plain": [
       "Validation: 0it [00:00, ?it/s]"
      ]
     },
     "metadata": {},
     "output_type": "display_data"
    },
    {
     "data": {
      "application/vnd.jupyter.widget-view+json": {
       "model_id": "",
       "version_major": 2,
       "version_minor": 0
      },
      "text/plain": [
       "Validation: 0it [00:00, ?it/s]"
      ]
     },
     "metadata": {},
     "output_type": "display_data"
    },
    {
     "data": {
      "application/vnd.jupyter.widget-view+json": {
       "model_id": "",
       "version_major": 2,
       "version_minor": 0
      },
      "text/plain": [
       "Validation: 0it [00:00, ?it/s]"
      ]
     },
     "metadata": {},
     "output_type": "display_data"
    },
    {
     "data": {
      "application/vnd.jupyter.widget-view+json": {
       "model_id": "",
       "version_major": 2,
       "version_minor": 0
      },
      "text/plain": [
       "Validation: 0it [00:00, ?it/s]"
      ]
     },
     "metadata": {},
     "output_type": "display_data"
    },
    {
     "data": {
      "application/vnd.jupyter.widget-view+json": {
       "model_id": "",
       "version_major": 2,
       "version_minor": 0
      },
      "text/plain": [
       "Validation: 0it [00:00, ?it/s]"
      ]
     },
     "metadata": {},
     "output_type": "display_data"
    },
    {
     "data": {
      "application/vnd.jupyter.widget-view+json": {
       "model_id": "",
       "version_major": 2,
       "version_minor": 0
      },
      "text/plain": [
       "Validation: 0it [00:00, ?it/s]"
      ]
     },
     "metadata": {},
     "output_type": "display_data"
    },
    {
     "data": {
      "application/vnd.jupyter.widget-view+json": {
       "model_id": "",
       "version_major": 2,
       "version_minor": 0
      },
      "text/plain": [
       "Validation: 0it [00:00, ?it/s]"
      ]
     },
     "metadata": {},
     "output_type": "display_data"
    },
    {
     "data": {
      "application/vnd.jupyter.widget-view+json": {
       "model_id": "",
       "version_major": 2,
       "version_minor": 0
      },
      "text/plain": [
       "Validation: 0it [00:00, ?it/s]"
      ]
     },
     "metadata": {},
     "output_type": "display_data"
    },
    {
     "data": {
      "application/vnd.jupyter.widget-view+json": {
       "model_id": "",
       "version_major": 2,
       "version_minor": 0
      },
      "text/plain": [
       "Validation: 0it [00:00, ?it/s]"
      ]
     },
     "metadata": {},
     "output_type": "display_data"
    },
    {
     "data": {
      "application/vnd.jupyter.widget-view+json": {
       "model_id": "",
       "version_major": 2,
       "version_minor": 0
      },
      "text/plain": [
       "Validation: 0it [00:00, ?it/s]"
      ]
     },
     "metadata": {},
     "output_type": "display_data"
    },
    {
     "data": {
      "application/vnd.jupyter.widget-view+json": {
       "model_id": "",
       "version_major": 2,
       "version_minor": 0
      },
      "text/plain": [
       "Validation: 0it [00:00, ?it/s]"
      ]
     },
     "metadata": {},
     "output_type": "display_data"
    },
    {
     "data": {
      "application/vnd.jupyter.widget-view+json": {
       "model_id": "",
       "version_major": 2,
       "version_minor": 0
      },
      "text/plain": [
       "Validation: 0it [00:00, ?it/s]"
      ]
     },
     "metadata": {},
     "output_type": "display_data"
    },
    {
     "data": {
      "application/vnd.jupyter.widget-view+json": {
       "model_id": "",
       "version_major": 2,
       "version_minor": 0
      },
      "text/plain": [
       "Validation: 0it [00:00, ?it/s]"
      ]
     },
     "metadata": {},
     "output_type": "display_data"
    },
    {
     "data": {
      "application/vnd.jupyter.widget-view+json": {
       "model_id": "",
       "version_major": 2,
       "version_minor": 0
      },
      "text/plain": [
       "Validation: 0it [00:00, ?it/s]"
      ]
     },
     "metadata": {},
     "output_type": "display_data"
    },
    {
     "data": {
      "application/vnd.jupyter.widget-view+json": {
       "model_id": "",
       "version_major": 2,
       "version_minor": 0
      },
      "text/plain": [
       "Validation: 0it [00:00, ?it/s]"
      ]
     },
     "metadata": {},
     "output_type": "display_data"
    },
    {
     "data": {
      "application/vnd.jupyter.widget-view+json": {
       "model_id": "",
       "version_major": 2,
       "version_minor": 0
      },
      "text/plain": [
       "Validation: 0it [00:00, ?it/s]"
      ]
     },
     "metadata": {},
     "output_type": "display_data"
    },
    {
     "data": {
      "application/vnd.jupyter.widget-view+json": {
       "model_id": "",
       "version_major": 2,
       "version_minor": 0
      },
      "text/plain": [
       "Validation: 0it [00:00, ?it/s]"
      ]
     },
     "metadata": {},
     "output_type": "display_data"
    },
    {
     "data": {
      "application/vnd.jupyter.widget-view+json": {
       "model_id": "",
       "version_major": 2,
       "version_minor": 0
      },
      "text/plain": [
       "Validation: 0it [00:00, ?it/s]"
      ]
     },
     "metadata": {},
     "output_type": "display_data"
    },
    {
     "data": {
      "application/vnd.jupyter.widget-view+json": {
       "model_id": "",
       "version_major": 2,
       "version_minor": 0
      },
      "text/plain": [
       "Validation: 0it [00:00, ?it/s]"
      ]
     },
     "metadata": {},
     "output_type": "display_data"
    },
    {
     "data": {
      "application/vnd.jupyter.widget-view+json": {
       "model_id": "",
       "version_major": 2,
       "version_minor": 0
      },
      "text/plain": [
       "Validation: 0it [00:00, ?it/s]"
      ]
     },
     "metadata": {},
     "output_type": "display_data"
    },
    {
     "data": {
      "application/vnd.jupyter.widget-view+json": {
       "model_id": "",
       "version_major": 2,
       "version_minor": 0
      },
      "text/plain": [
       "Validation: 0it [00:00, ?it/s]"
      ]
     },
     "metadata": {},
     "output_type": "display_data"
    },
    {
     "data": {
      "application/vnd.jupyter.widget-view+json": {
       "model_id": "",
       "version_major": 2,
       "version_minor": 0
      },
      "text/plain": [
       "Validation: 0it [00:00, ?it/s]"
      ]
     },
     "metadata": {},
     "output_type": "display_data"
    },
    {
     "data": {
      "application/vnd.jupyter.widget-view+json": {
       "model_id": "",
       "version_major": 2,
       "version_minor": 0
      },
      "text/plain": [
       "Validation: 0it [00:00, ?it/s]"
      ]
     },
     "metadata": {},
     "output_type": "display_data"
    },
    {
     "data": {
      "application/vnd.jupyter.widget-view+json": {
       "model_id": "",
       "version_major": 2,
       "version_minor": 0
      },
      "text/plain": [
       "Validation: 0it [00:00, ?it/s]"
      ]
     },
     "metadata": {},
     "output_type": "display_data"
    },
    {
     "data": {
      "application/vnd.jupyter.widget-view+json": {
       "model_id": "",
       "version_major": 2,
       "version_minor": 0
      },
      "text/plain": [
       "Validation: 0it [00:00, ?it/s]"
      ]
     },
     "metadata": {},
     "output_type": "display_data"
    },
    {
     "data": {
      "application/vnd.jupyter.widget-view+json": {
       "model_id": "",
       "version_major": 2,
       "version_minor": 0
      },
      "text/plain": [
       "Validation: 0it [00:00, ?it/s]"
      ]
     },
     "metadata": {},
     "output_type": "display_data"
    },
    {
     "data": {
      "application/vnd.jupyter.widget-view+json": {
       "model_id": "",
       "version_major": 2,
       "version_minor": 0
      },
      "text/plain": [
       "Validation: 0it [00:00, ?it/s]"
      ]
     },
     "metadata": {},
     "output_type": "display_data"
    },
    {
     "data": {
      "application/vnd.jupyter.widget-view+json": {
       "model_id": "",
       "version_major": 2,
       "version_minor": 0
      },
      "text/plain": [
       "Validation: 0it [00:00, ?it/s]"
      ]
     },
     "metadata": {},
     "output_type": "display_data"
    },
    {
     "data": {
      "application/vnd.jupyter.widget-view+json": {
       "model_id": "",
       "version_major": 2,
       "version_minor": 0
      },
      "text/plain": [
       "Validation: 0it [00:00, ?it/s]"
      ]
     },
     "metadata": {},
     "output_type": "display_data"
    },
    {
     "data": {
      "application/vnd.jupyter.widget-view+json": {
       "model_id": "",
       "version_major": 2,
       "version_minor": 0
      },
      "text/plain": [
       "Validation: 0it [00:00, ?it/s]"
      ]
     },
     "metadata": {},
     "output_type": "display_data"
    },
    {
     "data": {
      "application/vnd.jupyter.widget-view+json": {
       "model_id": "",
       "version_major": 2,
       "version_minor": 0
      },
      "text/plain": [
       "Validation: 0it [00:00, ?it/s]"
      ]
     },
     "metadata": {},
     "output_type": "display_data"
    },
    {
     "data": {
      "application/vnd.jupyter.widget-view+json": {
       "model_id": "",
       "version_major": 2,
       "version_minor": 0
      },
      "text/plain": [
       "Validation: 0it [00:00, ?it/s]"
      ]
     },
     "metadata": {},
     "output_type": "display_data"
    },
    {
     "data": {
      "application/vnd.jupyter.widget-view+json": {
       "model_id": "",
       "version_major": 2,
       "version_minor": 0
      },
      "text/plain": [
       "Validation: 0it [00:00, ?it/s]"
      ]
     },
     "metadata": {},
     "output_type": "display_data"
    },
    {
     "data": {
      "application/vnd.jupyter.widget-view+json": {
       "model_id": "",
       "version_major": 2,
       "version_minor": 0
      },
      "text/plain": [
       "Validation: 0it [00:00, ?it/s]"
      ]
     },
     "metadata": {},
     "output_type": "display_data"
    },
    {
     "data": {
      "application/vnd.jupyter.widget-view+json": {
       "model_id": "",
       "version_major": 2,
       "version_minor": 0
      },
      "text/plain": [
       "Validation: 0it [00:00, ?it/s]"
      ]
     },
     "metadata": {},
     "output_type": "display_data"
    },
    {
     "data": {
      "application/vnd.jupyter.widget-view+json": {
       "model_id": "",
       "version_major": 2,
       "version_minor": 0
      },
      "text/plain": [
       "Validation: 0it [00:00, ?it/s]"
      ]
     },
     "metadata": {},
     "output_type": "display_data"
    },
    {
     "data": {
      "application/vnd.jupyter.widget-view+json": {
       "model_id": "",
       "version_major": 2,
       "version_minor": 0
      },
      "text/plain": [
       "Validation: 0it [00:00, ?it/s]"
      ]
     },
     "metadata": {},
     "output_type": "display_data"
    },
    {
     "data": {
      "application/vnd.jupyter.widget-view+json": {
       "model_id": "",
       "version_major": 2,
       "version_minor": 0
      },
      "text/plain": [
       "Validation: 0it [00:00, ?it/s]"
      ]
     },
     "metadata": {},
     "output_type": "display_data"
    },
    {
     "data": {
      "application/vnd.jupyter.widget-view+json": {
       "model_id": "",
       "version_major": 2,
       "version_minor": 0
      },
      "text/plain": [
       "Validation: 0it [00:00, ?it/s]"
      ]
     },
     "metadata": {},
     "output_type": "display_data"
    },
    {
     "data": {
      "application/vnd.jupyter.widget-view+json": {
       "model_id": "",
       "version_major": 2,
       "version_minor": 0
      },
      "text/plain": [
       "Validation: 0it [00:00, ?it/s]"
      ]
     },
     "metadata": {},
     "output_type": "display_data"
    },
    {
     "data": {
      "application/vnd.jupyter.widget-view+json": {
       "model_id": "",
       "version_major": 2,
       "version_minor": 0
      },
      "text/plain": [
       "Validation: 0it [00:00, ?it/s]"
      ]
     },
     "metadata": {},
     "output_type": "display_data"
    },
    {
     "data": {
      "application/vnd.jupyter.widget-view+json": {
       "model_id": "",
       "version_major": 2,
       "version_minor": 0
      },
      "text/plain": [
       "Validation: 0it [00:00, ?it/s]"
      ]
     },
     "metadata": {},
     "output_type": "display_data"
    },
    {
     "data": {
      "application/vnd.jupyter.widget-view+json": {
       "model_id": "",
       "version_major": 2,
       "version_minor": 0
      },
      "text/plain": [
       "Validation: 0it [00:00, ?it/s]"
      ]
     },
     "metadata": {},
     "output_type": "display_data"
    },
    {
     "data": {
      "application/vnd.jupyter.widget-view+json": {
       "model_id": "",
       "version_major": 2,
       "version_minor": 0
      },
      "text/plain": [
       "Validation: 0it [00:00, ?it/s]"
      ]
     },
     "metadata": {},
     "output_type": "display_data"
    },
    {
     "data": {
      "application/vnd.jupyter.widget-view+json": {
       "model_id": "",
       "version_major": 2,
       "version_minor": 0
      },
      "text/plain": [
       "Validation: 0it [00:00, ?it/s]"
      ]
     },
     "metadata": {},
     "output_type": "display_data"
    },
    {
     "data": {
      "application/vnd.jupyter.widget-view+json": {
       "model_id": "",
       "version_major": 2,
       "version_minor": 0
      },
      "text/plain": [
       "Validation: 0it [00:00, ?it/s]"
      ]
     },
     "metadata": {},
     "output_type": "display_data"
    },
    {
     "data": {
      "application/vnd.jupyter.widget-view+json": {
       "model_id": "",
       "version_major": 2,
       "version_minor": 0
      },
      "text/plain": [
       "Validation: 0it [00:00, ?it/s]"
      ]
     },
     "metadata": {},
     "output_type": "display_data"
    },
    {
     "data": {
      "application/vnd.jupyter.widget-view+json": {
       "model_id": "",
       "version_major": 2,
       "version_minor": 0
      },
      "text/plain": [
       "Validation: 0it [00:00, ?it/s]"
      ]
     },
     "metadata": {},
     "output_type": "display_data"
    },
    {
     "data": {
      "application/vnd.jupyter.widget-view+json": {
       "model_id": "",
       "version_major": 2,
       "version_minor": 0
      },
      "text/plain": [
       "Validation: 0it [00:00, ?it/s]"
      ]
     },
     "metadata": {},
     "output_type": "display_data"
    },
    {
     "data": {
      "application/vnd.jupyter.widget-view+json": {
       "model_id": "",
       "version_major": 2,
       "version_minor": 0
      },
      "text/plain": [
       "Validation: 0it [00:00, ?it/s]"
      ]
     },
     "metadata": {},
     "output_type": "display_data"
    },
    {
     "data": {
      "application/vnd.jupyter.widget-view+json": {
       "model_id": "",
       "version_major": 2,
       "version_minor": 0
      },
      "text/plain": [
       "Validation: 0it [00:00, ?it/s]"
      ]
     },
     "metadata": {},
     "output_type": "display_data"
    },
    {
     "data": {
      "application/vnd.jupyter.widget-view+json": {
       "model_id": "",
       "version_major": 2,
       "version_minor": 0
      },
      "text/plain": [
       "Validation: 0it [00:00, ?it/s]"
      ]
     },
     "metadata": {},
     "output_type": "display_data"
    },
    {
     "data": {
      "application/vnd.jupyter.widget-view+json": {
       "model_id": "",
       "version_major": 2,
       "version_minor": 0
      },
      "text/plain": [
       "Validation: 0it [00:00, ?it/s]"
      ]
     },
     "metadata": {},
     "output_type": "display_data"
    },
    {
     "data": {
      "application/vnd.jupyter.widget-view+json": {
       "model_id": "",
       "version_major": 2,
       "version_minor": 0
      },
      "text/plain": [
       "Validation: 0it [00:00, ?it/s]"
      ]
     },
     "metadata": {},
     "output_type": "display_data"
    },
    {
     "data": {
      "application/vnd.jupyter.widget-view+json": {
       "model_id": "",
       "version_major": 2,
       "version_minor": 0
      },
      "text/plain": [
       "Validation: 0it [00:00, ?it/s]"
      ]
     },
     "metadata": {},
     "output_type": "display_data"
    },
    {
     "data": {
      "application/vnd.jupyter.widget-view+json": {
       "model_id": "",
       "version_major": 2,
       "version_minor": 0
      },
      "text/plain": [
       "Validation: 0it [00:00, ?it/s]"
      ]
     },
     "metadata": {},
     "output_type": "display_data"
    },
    {
     "data": {
      "application/vnd.jupyter.widget-view+json": {
       "model_id": "",
       "version_major": 2,
       "version_minor": 0
      },
      "text/plain": [
       "Validation: 0it [00:00, ?it/s]"
      ]
     },
     "metadata": {},
     "output_type": "display_data"
    },
    {
     "data": {
      "application/vnd.jupyter.widget-view+json": {
       "model_id": "",
       "version_major": 2,
       "version_minor": 0
      },
      "text/plain": [
       "Validation: 0it [00:00, ?it/s]"
      ]
     },
     "metadata": {},
     "output_type": "display_data"
    },
    {
     "data": {
      "application/vnd.jupyter.widget-view+json": {
       "model_id": "",
       "version_major": 2,
       "version_minor": 0
      },
      "text/plain": [
       "Validation: 0it [00:00, ?it/s]"
      ]
     },
     "metadata": {},
     "output_type": "display_data"
    },
    {
     "data": {
      "application/vnd.jupyter.widget-view+json": {
       "model_id": "",
       "version_major": 2,
       "version_minor": 0
      },
      "text/plain": [
       "Validation: 0it [00:00, ?it/s]"
      ]
     },
     "metadata": {},
     "output_type": "display_data"
    },
    {
     "data": {
      "application/vnd.jupyter.widget-view+json": {
       "model_id": "",
       "version_major": 2,
       "version_minor": 0
      },
      "text/plain": [
       "Validation: 0it [00:00, ?it/s]"
      ]
     },
     "metadata": {},
     "output_type": "display_data"
    },
    {
     "data": {
      "application/vnd.jupyter.widget-view+json": {
       "model_id": "",
       "version_major": 2,
       "version_minor": 0
      },
      "text/plain": [
       "Validation: 0it [00:00, ?it/s]"
      ]
     },
     "metadata": {},
     "output_type": "display_data"
    },
    {
     "data": {
      "application/vnd.jupyter.widget-view+json": {
       "model_id": "",
       "version_major": 2,
       "version_minor": 0
      },
      "text/plain": [
       "Validation: 0it [00:00, ?it/s]"
      ]
     },
     "metadata": {},
     "output_type": "display_data"
    },
    {
     "data": {
      "application/vnd.jupyter.widget-view+json": {
       "model_id": "",
       "version_major": 2,
       "version_minor": 0
      },
      "text/plain": [
       "Validation: 0it [00:00, ?it/s]"
      ]
     },
     "metadata": {},
     "output_type": "display_data"
    },
    {
     "data": {
      "application/vnd.jupyter.widget-view+json": {
       "model_id": "",
       "version_major": 2,
       "version_minor": 0
      },
      "text/plain": [
       "Validation: 0it [00:00, ?it/s]"
      ]
     },
     "metadata": {},
     "output_type": "display_data"
    },
    {
     "data": {
      "application/vnd.jupyter.widget-view+json": {
       "model_id": "",
       "version_major": 2,
       "version_minor": 0
      },
      "text/plain": [
       "Validation: 0it [00:00, ?it/s]"
      ]
     },
     "metadata": {},
     "output_type": "display_data"
    },
    {
     "data": {
      "application/vnd.jupyter.widget-view+json": {
       "model_id": "",
       "version_major": 2,
       "version_minor": 0
      },
      "text/plain": [
       "Validation: 0it [00:00, ?it/s]"
      ]
     },
     "metadata": {},
     "output_type": "display_data"
    },
    {
     "data": {
      "application/vnd.jupyter.widget-view+json": {
       "model_id": "",
       "version_major": 2,
       "version_minor": 0
      },
      "text/plain": [
       "Validation: 0it [00:00, ?it/s]"
      ]
     },
     "metadata": {},
     "output_type": "display_data"
    },
    {
     "data": {
      "application/vnd.jupyter.widget-view+json": {
       "model_id": "",
       "version_major": 2,
       "version_minor": 0
      },
      "text/plain": [
       "Validation: 0it [00:00, ?it/s]"
      ]
     },
     "metadata": {},
     "output_type": "display_data"
    },
    {
     "data": {
      "application/vnd.jupyter.widget-view+json": {
       "model_id": "",
       "version_major": 2,
       "version_minor": 0
      },
      "text/plain": [
       "Validation: 0it [00:00, ?it/s]"
      ]
     },
     "metadata": {},
     "output_type": "display_data"
    },
    {
     "data": {
      "application/vnd.jupyter.widget-view+json": {
       "model_id": "",
       "version_major": 2,
       "version_minor": 0
      },
      "text/plain": [
       "Validation: 0it [00:00, ?it/s]"
      ]
     },
     "metadata": {},
     "output_type": "display_data"
    },
    {
     "data": {
      "application/vnd.jupyter.widget-view+json": {
       "model_id": "",
       "version_major": 2,
       "version_minor": 0
      },
      "text/plain": [
       "Validation: 0it [00:00, ?it/s]"
      ]
     },
     "metadata": {},
     "output_type": "display_data"
    },
    {
     "data": {
      "application/vnd.jupyter.widget-view+json": {
       "model_id": "",
       "version_major": 2,
       "version_minor": 0
      },
      "text/plain": [
       "Validation: 0it [00:00, ?it/s]"
      ]
     },
     "metadata": {},
     "output_type": "display_data"
    },
    {
     "data": {
      "application/vnd.jupyter.widget-view+json": {
       "model_id": "",
       "version_major": 2,
       "version_minor": 0
      },
      "text/plain": [
       "Validation: 0it [00:00, ?it/s]"
      ]
     },
     "metadata": {},
     "output_type": "display_data"
    },
    {
     "data": {
      "application/vnd.jupyter.widget-view+json": {
       "model_id": "",
       "version_major": 2,
       "version_minor": 0
      },
      "text/plain": [
       "Validation: 0it [00:00, ?it/s]"
      ]
     },
     "metadata": {},
     "output_type": "display_data"
    },
    {
     "data": {
      "application/vnd.jupyter.widget-view+json": {
       "model_id": "",
       "version_major": 2,
       "version_minor": 0
      },
      "text/plain": [
       "Validation: 0it [00:00, ?it/s]"
      ]
     },
     "metadata": {},
     "output_type": "display_data"
    },
    {
     "data": {
      "application/vnd.jupyter.widget-view+json": {
       "model_id": "",
       "version_major": 2,
       "version_minor": 0
      },
      "text/plain": [
       "Validation: 0it [00:00, ?it/s]"
      ]
     },
     "metadata": {},
     "output_type": "display_data"
    },
    {
     "data": {
      "application/vnd.jupyter.widget-view+json": {
       "model_id": "",
       "version_major": 2,
       "version_minor": 0
      },
      "text/plain": [
       "Validation: 0it [00:00, ?it/s]"
      ]
     },
     "metadata": {},
     "output_type": "display_data"
    },
    {
     "data": {
      "application/vnd.jupyter.widget-view+json": {
       "model_id": "",
       "version_major": 2,
       "version_minor": 0
      },
      "text/plain": [
       "Validation: 0it [00:00, ?it/s]"
      ]
     },
     "metadata": {},
     "output_type": "display_data"
    },
    {
     "data": {
      "application/vnd.jupyter.widget-view+json": {
       "model_id": "",
       "version_major": 2,
       "version_minor": 0
      },
      "text/plain": [
       "Validation: 0it [00:00, ?it/s]"
      ]
     },
     "metadata": {},
     "output_type": "display_data"
    },
    {
     "data": {
      "application/vnd.jupyter.widget-view+json": {
       "model_id": "",
       "version_major": 2,
       "version_minor": 0
      },
      "text/plain": [
       "Validation: 0it [00:00, ?it/s]"
      ]
     },
     "metadata": {},
     "output_type": "display_data"
    },
    {
     "data": {
      "application/vnd.jupyter.widget-view+json": {
       "model_id": "",
       "version_major": 2,
       "version_minor": 0
      },
      "text/plain": [
       "Validation: 0it [00:00, ?it/s]"
      ]
     },
     "metadata": {},
     "output_type": "display_data"
    },
    {
     "data": {
      "application/vnd.jupyter.widget-view+json": {
       "model_id": "",
       "version_major": 2,
       "version_minor": 0
      },
      "text/plain": [
       "Validation: 0it [00:00, ?it/s]"
      ]
     },
     "metadata": {},
     "output_type": "display_data"
    },
    {
     "data": {
      "application/vnd.jupyter.widget-view+json": {
       "model_id": "",
       "version_major": 2,
       "version_minor": 0
      },
      "text/plain": [
       "Validation: 0it [00:00, ?it/s]"
      ]
     },
     "metadata": {},
     "output_type": "display_data"
    },
    {
     "data": {
      "application/vnd.jupyter.widget-view+json": {
       "model_id": "",
       "version_major": 2,
       "version_minor": 0
      },
      "text/plain": [
       "Validation: 0it [00:00, ?it/s]"
      ]
     },
     "metadata": {},
     "output_type": "display_data"
    },
    {
     "data": {
      "application/vnd.jupyter.widget-view+json": {
       "model_id": "",
       "version_major": 2,
       "version_minor": 0
      },
      "text/plain": [
       "Validation: 0it [00:00, ?it/s]"
      ]
     },
     "metadata": {},
     "output_type": "display_data"
    },
    {
     "data": {
      "application/vnd.jupyter.widget-view+json": {
       "model_id": "",
       "version_major": 2,
       "version_minor": 0
      },
      "text/plain": [
       "Validation: 0it [00:00, ?it/s]"
      ]
     },
     "metadata": {},
     "output_type": "display_data"
    },
    {
     "data": {
      "application/vnd.jupyter.widget-view+json": {
       "model_id": "",
       "version_major": 2,
       "version_minor": 0
      },
      "text/plain": [
       "Validation: 0it [00:00, ?it/s]"
      ]
     },
     "metadata": {},
     "output_type": "display_data"
    },
    {
     "data": {
      "application/vnd.jupyter.widget-view+json": {
       "model_id": "",
       "version_major": 2,
       "version_minor": 0
      },
      "text/plain": [
       "Validation: 0it [00:00, ?it/s]"
      ]
     },
     "metadata": {},
     "output_type": "display_data"
    },
    {
     "data": {
      "application/vnd.jupyter.widget-view+json": {
       "model_id": "",
       "version_major": 2,
       "version_minor": 0
      },
      "text/plain": [
       "Validation: 0it [00:00, ?it/s]"
      ]
     },
     "metadata": {},
     "output_type": "display_data"
    },
    {
     "data": {
      "application/vnd.jupyter.widget-view+json": {
       "model_id": "",
       "version_major": 2,
       "version_minor": 0
      },
      "text/plain": [
       "Validation: 0it [00:00, ?it/s]"
      ]
     },
     "metadata": {},
     "output_type": "display_data"
    },
    {
     "data": {
      "application/vnd.jupyter.widget-view+json": {
       "model_id": "",
       "version_major": 2,
       "version_minor": 0
      },
      "text/plain": [
       "Validation: 0it [00:00, ?it/s]"
      ]
     },
     "metadata": {},
     "output_type": "display_data"
    },
    {
     "data": {
      "application/vnd.jupyter.widget-view+json": {
       "model_id": "",
       "version_major": 2,
       "version_minor": 0
      },
      "text/plain": [
       "Validation: 0it [00:00, ?it/s]"
      ]
     },
     "metadata": {},
     "output_type": "display_data"
    },
    {
     "data": {
      "application/vnd.jupyter.widget-view+json": {
       "model_id": "",
       "version_major": 2,
       "version_minor": 0
      },
      "text/plain": [
       "Validation: 0it [00:00, ?it/s]"
      ]
     },
     "metadata": {},
     "output_type": "display_data"
    },
    {
     "data": {
      "application/vnd.jupyter.widget-view+json": {
       "model_id": "",
       "version_major": 2,
       "version_minor": 0
      },
      "text/plain": [
       "Validation: 0it [00:00, ?it/s]"
      ]
     },
     "metadata": {},
     "output_type": "display_data"
    },
    {
     "data": {
      "application/vnd.jupyter.widget-view+json": {
       "model_id": "",
       "version_major": 2,
       "version_minor": 0
      },
      "text/plain": [
       "Validation: 0it [00:00, ?it/s]"
      ]
     },
     "metadata": {},
     "output_type": "display_data"
    },
    {
     "data": {
      "application/vnd.jupyter.widget-view+json": {
       "model_id": "",
       "version_major": 2,
       "version_minor": 0
      },
      "text/plain": [
       "Validation: 0it [00:00, ?it/s]"
      ]
     },
     "metadata": {},
     "output_type": "display_data"
    },
    {
     "data": {
      "application/vnd.jupyter.widget-view+json": {
       "model_id": "",
       "version_major": 2,
       "version_minor": 0
      },
      "text/plain": [
       "Validation: 0it [00:00, ?it/s]"
      ]
     },
     "metadata": {},
     "output_type": "display_data"
    },
    {
     "data": {
      "application/vnd.jupyter.widget-view+json": {
       "model_id": "",
       "version_major": 2,
       "version_minor": 0
      },
      "text/plain": [
       "Validation: 0it [00:00, ?it/s]"
      ]
     },
     "metadata": {},
     "output_type": "display_data"
    },
    {
     "data": {
      "application/vnd.jupyter.widget-view+json": {
       "model_id": "",
       "version_major": 2,
       "version_minor": 0
      },
      "text/plain": [
       "Validation: 0it [00:00, ?it/s]"
      ]
     },
     "metadata": {},
     "output_type": "display_data"
    },
    {
     "data": {
      "application/vnd.jupyter.widget-view+json": {
       "model_id": "",
       "version_major": 2,
       "version_minor": 0
      },
      "text/plain": [
       "Validation: 0it [00:00, ?it/s]"
      ]
     },
     "metadata": {},
     "output_type": "display_data"
    },
    {
     "data": {
      "application/vnd.jupyter.widget-view+json": {
       "model_id": "",
       "version_major": 2,
       "version_minor": 0
      },
      "text/plain": [
       "Validation: 0it [00:00, ?it/s]"
      ]
     },
     "metadata": {},
     "output_type": "display_data"
    },
    {
     "data": {
      "application/vnd.jupyter.widget-view+json": {
       "model_id": "",
       "version_major": 2,
       "version_minor": 0
      },
      "text/plain": [
       "Validation: 0it [00:00, ?it/s]"
      ]
     },
     "metadata": {},
     "output_type": "display_data"
    },
    {
     "data": {
      "application/vnd.jupyter.widget-view+json": {
       "model_id": "",
       "version_major": 2,
       "version_minor": 0
      },
      "text/plain": [
       "Validation: 0it [00:00, ?it/s]"
      ]
     },
     "metadata": {},
     "output_type": "display_data"
    },
    {
     "data": {
      "application/vnd.jupyter.widget-view+json": {
       "model_id": "",
       "version_major": 2,
       "version_minor": 0
      },
      "text/plain": [
       "Validation: 0it [00:00, ?it/s]"
      ]
     },
     "metadata": {},
     "output_type": "display_data"
    },
    {
     "data": {
      "application/vnd.jupyter.widget-view+json": {
       "model_id": "",
       "version_major": 2,
       "version_minor": 0
      },
      "text/plain": [
       "Validation: 0it [00:00, ?it/s]"
      ]
     },
     "metadata": {},
     "output_type": "display_data"
    },
    {
     "data": {
      "application/vnd.jupyter.widget-view+json": {
       "model_id": "",
       "version_major": 2,
       "version_minor": 0
      },
      "text/plain": [
       "Validation: 0it [00:00, ?it/s]"
      ]
     },
     "metadata": {},
     "output_type": "display_data"
    },
    {
     "data": {
      "application/vnd.jupyter.widget-view+json": {
       "model_id": "",
       "version_major": 2,
       "version_minor": 0
      },
      "text/plain": [
       "Validation: 0it [00:00, ?it/s]"
      ]
     },
     "metadata": {},
     "output_type": "display_data"
    },
    {
     "data": {
      "application/vnd.jupyter.widget-view+json": {
       "model_id": "",
       "version_major": 2,
       "version_minor": 0
      },
      "text/plain": [
       "Validation: 0it [00:00, ?it/s]"
      ]
     },
     "metadata": {},
     "output_type": "display_data"
    },
    {
     "data": {
      "application/vnd.jupyter.widget-view+json": {
       "model_id": "",
       "version_major": 2,
       "version_minor": 0
      },
      "text/plain": [
       "Validation: 0it [00:00, ?it/s]"
      ]
     },
     "metadata": {},
     "output_type": "display_data"
    },
    {
     "data": {
      "application/vnd.jupyter.widget-view+json": {
       "model_id": "",
       "version_major": 2,
       "version_minor": 0
      },
      "text/plain": [
       "Validation: 0it [00:00, ?it/s]"
      ]
     },
     "metadata": {},
     "output_type": "display_data"
    },
    {
     "data": {
      "application/vnd.jupyter.widget-view+json": {
       "model_id": "",
       "version_major": 2,
       "version_minor": 0
      },
      "text/plain": [
       "Validation: 0it [00:00, ?it/s]"
      ]
     },
     "metadata": {},
     "output_type": "display_data"
    },
    {
     "data": {
      "application/vnd.jupyter.widget-view+json": {
       "model_id": "",
       "version_major": 2,
       "version_minor": 0
      },
      "text/plain": [
       "Validation: 0it [00:00, ?it/s]"
      ]
     },
     "metadata": {},
     "output_type": "display_data"
    },
    {
     "data": {
      "application/vnd.jupyter.widget-view+json": {
       "model_id": "",
       "version_major": 2,
       "version_minor": 0
      },
      "text/plain": [
       "Validation: 0it [00:00, ?it/s]"
      ]
     },
     "metadata": {},
     "output_type": "display_data"
    },
    {
     "data": {
      "application/vnd.jupyter.widget-view+json": {
       "model_id": "",
       "version_major": 2,
       "version_minor": 0
      },
      "text/plain": [
       "Validation: 0it [00:00, ?it/s]"
      ]
     },
     "metadata": {},
     "output_type": "display_data"
    },
    {
     "data": {
      "application/vnd.jupyter.widget-view+json": {
       "model_id": "",
       "version_major": 2,
       "version_minor": 0
      },
      "text/plain": [
       "Validation: 0it [00:00, ?it/s]"
      ]
     },
     "metadata": {},
     "output_type": "display_data"
    },
    {
     "data": {
      "application/vnd.jupyter.widget-view+json": {
       "model_id": "",
       "version_major": 2,
       "version_minor": 0
      },
      "text/plain": [
       "Validation: 0it [00:00, ?it/s]"
      ]
     },
     "metadata": {},
     "output_type": "display_data"
    },
    {
     "data": {
      "application/vnd.jupyter.widget-view+json": {
       "model_id": "",
       "version_major": 2,
       "version_minor": 0
      },
      "text/plain": [
       "Validation: 0it [00:00, ?it/s]"
      ]
     },
     "metadata": {},
     "output_type": "display_data"
    },
    {
     "data": {
      "application/vnd.jupyter.widget-view+json": {
       "model_id": "",
       "version_major": 2,
       "version_minor": 0
      },
      "text/plain": [
       "Validation: 0it [00:00, ?it/s]"
      ]
     },
     "metadata": {},
     "output_type": "display_data"
    }
   ],
   "source": [
    "# Some of PyTorch RNN/LSTM components have non-deterministic parts, need to set deterministic to True to ensure reproducibility\n",
    "# Comment in if one aims to do iterative research\n",
    "torch.backends.cudnn.deterministic = True\n",
    "torch.backends.cudnn.benchmark = False\n",
    "\n",
    "early_stop_callback = EarlyStopping(monitor=\"val_loss\", min_delta=1e-4, patience=10, verbose=False, mode=\"min\")\n",
    "lr_logger = LearningRateMonitor()  \n",
    "logger = TensorBoardLogger(\"lightning_logs\") \n",
    "\n",
    "# Configure Trainer\n",
    "trainer = pl.Trainer(\n",
    "    max_epochs=400,\n",
    "    gpus=0,\n",
    "    enable_model_summary=True,\n",
    "    gradient_clip_val=gradient_clip_val,\n",
    "    limit_train_batches=30,  \n",
    "    callbacks=[lr_logger, early_stop_callback],\n",
    "    logger=logger,\n",
    ")\n",
    "\n",
    "tft = TemporalFusionTransformer.from_dataset(\n",
    "    training,\n",
    "    learning_rate=learning_rate,\n",
    "    hidden_size=hidden_size,\n",
    "    attention_head_size=attention_head_size,\n",
    "    dropout=dropout,\n",
    "    hidden_continuous_size=hidden_continuous_size,\n",
    "    output_size=7,  # 7 quantiles by default\n",
    "    loss=QuantileLoss(),\n",
    "    log_interval=10,  \n",
    "    reduce_on_plateau_patience=4,\n",
    ")\n",
    "\n",
    "# Fit the model on the data\n",
    "trainer.fit(\n",
    "    tft,\n",
    "    train_dataloaders=train_dataloader,\n",
    "    val_dataloaders=val_dataloader,\n",
    ")\n",
    "best_tft = tft\n",
    "raw_predictions, x = best_tft.predict(val_dataloader, mode=\"raw\", return_x=True)\n"
   ]
  },
  {
   "cell_type": "markdown",
   "id": "31112fd1",
   "metadata": {},
   "source": [
    "Locally save model using save(state_dict())"
   ]
  },
  {
   "cell_type": "code",
   "execution_count": 177,
   "id": "e872f4bc",
   "metadata": {},
   "outputs": [],
   "source": [
    "# torch.save(best_tft, \"sunfloweroil_seed1.pth\")\n",
    "torch.save(best_tft.state_dict(), 'Pre-Trained_Models/maize_seed7.pth')\n"
   ]
  },
  {
   "cell_type": "markdown",
   "id": "9c0c28cb",
   "metadata": {},
   "source": [
    "## Plotting the In-Sample Validation Results"
   ]
  },
  {
   "cell_type": "code",
   "execution_count": 178,
   "id": "07ef7969",
   "metadata": {},
   "outputs": [],
   "source": [
    "data_plotter = data.copy()\n",
    "data_plotter[\"timeidx_mov\"] = data_plotter[\"timeidx\"] - (len(data_plotter) - max_prediction_length)\n",
    "    \n",
    "MA2_val = list(data_plotter['MA2'].tail(max_prediction_length))\n",
    "price_val = list(data_plotter['price'].tail(max_prediction_length))\n",
    "    \n",
    "y_pred = best_tft.to_quantiles(raw_predictions)\n",
    "target =  torch.FloatTensor(price_val)\n"
   ]
  },
  {
   "cell_type": "code",
   "execution_count": 179,
   "id": "39186749",
   "metadata": {
    "scrolled": true
   },
   "outputs": [
    {
     "name": "stdout",
     "output_type": "stream",
     "text": [
      "Quantile Loss =  0.004\n"
     ]
    },
    {
     "data": {
      "image/png": "[encoded data removed]",
      "text/plain": [
       "<Figure size 2000x500 with 1 Axes>"
      ]
     },
     "metadata": {},
     "output_type": "display_data"
    }
   ],
   "source": [
    "def forecaster_plotter(raw_dat, raw_predictions, data):\n",
    "    q02, q10, q25, q5, q75, q90, q98 = [], [], [], [], [], [], []\n",
    "    \n",
    "    for i in range(len(raw_predictions[0])):\n",
    "        q02.append(sorted(raw_predictions[0][i])[0].item())\n",
    "        q10.append(sorted(raw_predictions[0][i])[1].item())\n",
    "        q25.append(sorted(raw_predictions[0][i])[2].item())\n",
    "        q5.append(sorted(raw_predictions[0][i])[3].item())\n",
    "        q75.append(sorted(raw_predictions[0][i])[4].item())\n",
    "        q90.append(sorted(raw_predictions[0][i])[5].item())\n",
    "        q98.append(sorted(raw_predictions[0][i])[6].item())\n",
    "                \n",
    "    data_plotter = data.copy()\n",
    "    data_plotter[\"timeidx_mov\"] = data_plotter[\"timeidx\"] - (len(data_plotter) - max_prediction_length)\n",
    "    \n",
    "    MA2_val = list(data_plotter['MA2'].tail(max_prediction_length))\n",
    "    price_val = list(data_plotter['price'].tail(max_prediction_length))\n",
    "    \n",
    "    MAPE_MA2 = mean_absolute_percentage_error(q5, MA2_val)\n",
    "    MAPE_price = mean_absolute_percentage_error(q5, price_val)\n",
    "    y_pred = best_tft.to_quantiles(raw_dat)\n",
    "    target =  torch.FloatTensor(price_val)\n",
    "    \n",
    "    print('Quantile Loss = ', \"{:.3f}\".format(torch.mean(QuantileLoss().loss(y_pred, target))))\n",
    "#     print('MAPE MA2 = ', \"{:.3f}\".format(MAPE_MA2))\n",
    "#     print('MAPE price = ', \"{:.3f}\".format(MAPE_price))\n",
    "\n",
    "    index_list = list(reduced_data_set.index.values)\n",
    "    used_list = index_list[-max_prediction_length:]\n",
    "    \n",
    "    ax = data_plotter[(data_plotter.index > date_filter)][[\"price\"]].plot()\n",
    "    plt.fill_between(used_list, q02, q98, alpha = 0.1, color = 'tab:orange')\n",
    "    plt.fill_between(used_list, q10, q90, alpha = 0.2, color = 'tab:orange')\n",
    "    plt.fill_between(used_list, q25, q75, alpha = 0.2, color = 'tab:orange')\n",
    "\n",
    "    plt.plot(used_list, q5, color = 'tab:orange', label = 'Median')\n",
    "    plt.axvline(datetime.datetime(2022, 2, 20), color = 'red', linestyle = '--', label = 'Invasion Russia')\n",
    "\n",
    "    plt.xlabel('Time')\n",
    "    plt.ylabel('Price')\n",
    "    plt.legend()\n",
    "\n",
    "forecaster_plotter(raw_predictions, raw_predictions['prediction'], data)   "
   ]
  },
  {
   "cell_type": "markdown",
   "id": "0aef75d2",
   "metadata": {},
   "source": [
    "## Scenario Forecasting"
   ]
  },
  {
   "cell_type": "markdown",
   "id": "f3be0056",
   "metadata": {},
   "source": [
    "Alter the data for Scenario Forecasting"
   ]
  },
  {
   "cell_type": "code",
   "execution_count": 180,
   "id": "f0c5c226",
   "metadata": {},
   "outputs": [],
   "source": [
    "def situation_simulator(energyPrices, tradingIntensity):\n",
    "    last_data = data[lambda x: x.timeidx == (x.timeidx.max())]\n",
    "    lastGas = last_data[\"NGAS_EUR\"].item()\n",
    "    lastOil = last_data[\"CRUDE_PETRO\"].item()\n",
    "    lastQuant = last_data[\"UKR_QUANTITY\"].item()\n",
    "    \n",
    "    max_quantity = data[(data.index >= datetime.date(year = 2020, month = 2, day = 1)) & (data.index <= datetime.date(year = 2022, month = 2, day = 1))][\"UKR_QUANTITY\"].mean()\n",
    "    max_GasPrice = data[\"NGAS_EUR\"].max()\n",
    "    max_OilPrice = data[\"CRUDE_PETRO\"].max()\n",
    "    \n",
    "    very_high_peak_trade = max_quantity * 2\n",
    "    high_peak_trade = max_quantity * 1.5\n",
    "    moderate_peak_trade = max_quantity * 1\n",
    "    \n",
    "    very_high_peak_gas = max_GasPrice * 1.5\n",
    "    high_peak_gas = max_GasPrice * 0.75\n",
    "    moderate_peak_gas = max_GasPrice * 0.5\n",
    "    low_peak_gas = max_GasPrice * 0.2\n",
    "    \n",
    "    very_high_peak_oil = max_OilPrice * 1.5\n",
    "    high_peak_oil = max_OilPrice * 0.75\n",
    "    moderate_peak_oil = max_OilPrice * 0.5\n",
    "    low_peak_oil = max_OilPrice * 0.2\n",
    "\n",
    "    if tradingIntensity == \"Low\":\n",
    "        simDataTrade = [0] * max_prediction_length\n",
    "    \n",
    "    if tradingIntensity == \"Moderate\":\n",
    "        difTrade = moderate_peak_trade - (lastQuant)\n",
    "        simDataTrade = [lastQuant + (difTrade) / 2] + [moderate_peak_trade] * (max_prediction_length - 1)\n",
    "\n",
    "    if tradingIntensity == \"High\":\n",
    "        difTrade = high_peak_trade - (lastQuant)\n",
    "        simDataTrade = [lastQuant + (difTrade) / 2] + [high_peak_trade] * (max_prediction_length - 1)\n",
    "\n",
    "    if tradingIntensity == \"Very High\":\n",
    "        difTrade = very_high_peak_trade - (lastQuant)\n",
    "        simDataTrade = [lastQuant + (difTrade) / 2] + [very_high_peak_trade] * (max_prediction_length - 1)\n",
    "        \n",
    "        \n",
    "    if energyPrices == \"Low\":\n",
    "        difGas = low_peak_gas - lastGas\n",
    "        difOil = low_peak_oil - lastOil\n",
    "        simDataGas = [lastGas + (difGas) / 2] + [low_peak_gas] * (max_prediction_length - 1)\n",
    "        simDataOil = [lastOil + (difOil) / 2] + [low_peak_oil] * (max_prediction_length - 1)\n",
    "    \n",
    "    if energyPrices == \"Moderate\":\n",
    "        difGas = moderate_peak_gas - lastGas\n",
    "        difOil = moderate_peak_oil - lastOil\n",
    "        simDataGas = [lastGas + (difGas) / 2] + [moderate_peak_gas] * (max_prediction_length - 1)\n",
    "        simDataOil = [lastOil + (difOil) / 2] + [moderate_peak_oil] * (max_prediction_length - 1)\n",
    "\n",
    "    if energyPrices == \"High\":\n",
    "        difGas = high_peak_gas - lastGas\n",
    "        difOil = high_peak_oil - lastOil\n",
    "        simDataGas = [lastGas + (difGas) / 2] + [high_peak_gas] * (max_prediction_length - 1)\n",
    "        simDataOil = [lastOil + (difOil) / 2] + [high_peak_oil] * (max_prediction_length - 1)\n",
    "\n",
    "    if energyPrices == \"Very High\":\n",
    "        difGas = very_high_peak_gas - lastGas\n",
    "        difOil = very_high_peak_oil - lastOil\n",
    "        simDataGas = [lastGas + (difGas) / 2] + [very_high_peak_gas] * (max_prediction_length - 1)\n",
    "        simDataOil = [lastOil + (difOil) / 2] + [very_high_peak_oil] * (max_prediction_length - 1)\n",
    "            \n",
    "    return simDataGas, simDataOil, simDataTrade    \n",
    "    "
   ]
  },
  {
   "cell_type": "code",
   "execution_count": 181,
   "id": "c0791388",
   "metadata": {},
   "outputs": [],
   "source": [
    "simDataGas, simDataOil, simDataTrade = situation_simulator(\"Low\", \"Low\")\n",
    "\n",
    "encoder_data = data[lambda x: x.timeidx > x.timeidx.max() - max_encoder_length]\n",
    "last_data = data[lambda x: x.timeidx == x.timeidx.max()]\n",
    "decoder_data = pd.concat(\n",
    "    [last_data.assign(date=lambda x: x.index + pd.offsets.MonthBegin(i)) for i in range(1, max_prediction_length + 1)],\n",
    "    ignore_index=True,\n",
    ")\n",
    "\n",
    "decoder_data[\"timeidx\"] = decoder_data[\"date\"].dt.year * 12 + decoder_data[\"date\"].dt.month\n",
    "decoder_data[\"timeidx\"] += encoder_data[\"timeidx\"].max() + 1 - decoder_data[\"timeidx\"].min()\\\n",
    "\n",
    "decoder_data[\"month\"] = decoder_data.date.dt.month.astype(str).astype(\"category\")  # categories have be strings\n",
    "decoder_data[\"year\"] = decoder_data.date.dt.year.astype(str).astype(\"category\")  # categories have be strings\n",
    "\n",
    "for i in range(max_prediction_length):\n",
    "    replaceIndex = i\n",
    "    \n",
    "    replaceValueGas = simDataGas[replaceIndex]\n",
    "    replaceValueOil = simDataOil[replaceIndex]\n",
    "        \n",
    "    decoder_data.loc[replaceIndex,'NGAS_EUR'] = replaceValueGas\n",
    "    decoder_data.loc[replaceIndex,'CRUDE_PETRO'] = replaceValueOil\n",
    "\n",
    "# # combine encoder and decoder data\n",
    "new_prediction_data = pd.concat([encoder_data, decoder_data], ignore_index=True)"
   ]
  },
  {
   "cell_type": "code",
   "execution_count": 182,
   "id": "9fdb2386",
   "metadata": {},
   "outputs": [
    {
     "data": {
      "image/png": "[encoded data removed]",
      "text/plain": [
       "<Figure size 2000x500 with 1 Axes>"
      ]
     },
     "metadata": {},
     "output_type": "display_data"
    }
   ],
   "source": [
    "new_raw_predictions, new_x = best_tft.predict(new_prediction_data, mode=\"raw\", return_x=True)\n",
    "\n",
    "def sim_forecaster_plotter(raw_predictions, data, prediction_length):\n",
    "    q02, q10, q25, q5, q75, q90, q98 = [], [], [], [], [], [], []\n",
    "    \n",
    "    for i in range(len(raw_predictions[0])):\n",
    "        q02.append(sorted(raw_predictions[0][i])[0].item())\n",
    "        q10.append(sorted(raw_predictions[0][i])[1].item())\n",
    "        q25.append(sorted(raw_predictions[0][i])[2].item())\n",
    "        q5.append(sorted(raw_predictions[0][i])[3].item())\n",
    "        q75.append(sorted(raw_predictions[0][i])[4].item())\n",
    "        q90.append(sorted(raw_predictions[0][i])[5].item())\n",
    "        q98.append(sorted(raw_predictions[0][i])[6].item())\n",
    "                \n",
    "    data_plotter = data.copy()\n",
    "    data_plotter[\"timeidx_mov\"] = data_plotter[\"timeidx\"] - (len(data_plotter) - prediction_length)\n",
    "    \n",
    "    last_data = data[lambda x: x.timeidx == x.timeidx.max()]\n",
    "    \n",
    "    # Get first month of forecast window\n",
    "    first_month  = int(last_data[\"month\"]) + 1 - months_to_drop\n",
    "    first_year = int(last_data[\"year\"])\n",
    "    \n",
    "    index_list = list(data_plotter.index.values)\n",
    "    \n",
    "    used_list_new = []\n",
    "    \n",
    "    for i in range(prediction_length):\n",
    "        current_month = first_month + i\n",
    "        current_year = first_year\n",
    "        \n",
    "        if current_month > 12:\n",
    "            current_month = current_month - 12\n",
    "            current_year = first_year + 1\n",
    "        \n",
    "        used_list_new.append(datetime.date(year = current_year, month = current_month, day = 1))\n",
    "            \n",
    "    used_list = index_list[-max_prediction_length:]\n",
    "    \n",
    "    ax = data_plotter[(data_plotter.index > date_filter)][[target_feat]].plot(label = 'Actual Price')\n",
    "#     plt.fill_between(used_list_new, q02, q98, alpha = 0.2, color = 'tab:orange')\n",
    "#     plt.fill_between(used_list_new, q25, q75, alpha = 0.2, color = 'tab:orange')\n",
    "    plt.fill_between(used_list_new, q10, q90, alpha = 0.2, color = 'tab:orange')\n",
    "\n",
    "    plt.axvline(datetime.datetime(2022, 2, 20), color = 'red', linestyle = '--', label = 'Invasion Russia')\n",
    "    plt.xlim([datetime.date(2020, 11, 1), datetime.date(2023, 6, 1)]);\n",
    "    plt.xticks(rotation = 45)\n",
    "    plt.plot(used_list_new, q5, color = 'tab:orange', label = 'Median Forecast')\n",
    "#     plt.ylim(0.6, 1.9)\n",
    "    plt.xlabel('Time [Months]')\n",
    "    plt.ylabel('Price [€/kg]')\n",
    "    plt.legend(['Actual Price','0.1-0.9 Quantile', 'Invasion Russia', 'Median Forecast'], loc = 'upper left')\n",
    "    \n",
    "sim_forecaster_plotter(new_raw_predictions['prediction'], data, max_prediction_length)   "
   ]
  },
  {
   "cell_type": "markdown",
   "id": "2abaf23e",
   "metadata": {},
   "source": [
    "Visualize the different Scenarios"
   ]
  },
  {
   "cell_type": "code",
   "execution_count": 183,
   "id": "e7062961",
   "metadata": {},
   "outputs": [
    {
     "data": {
      "image/png": "[encoded data removed]",
      "text/plain": [
       "<Figure size 2000x500 with 1 Axes>"
      ]
     },
     "metadata": {},
     "output_type": "display_data"
    }
   ],
   "source": [
    "gasL, oilL, tradeL = situation_simulator(\"Low\", \"Low\")\n",
    "gasM, oilM, tradeM = situation_simulator(\"Moderate\", \"Moderate\")\n",
    "gasH, oilH, tradeH = situation_simulator(\"High\", \"High\")\n",
    "gasVH, oilVH, tradeVH = situation_simulator(\"Very High\", \"Very High\")\n",
    "\n",
    "final_oil_price = oil_data.tail(1)['CRUDE_PETRO'].item()\n",
    "final_gas_price = oil_data.tail(1)['NGAS_EUR'].item()\n",
    "final_trade = data.tail(1)['UKR_QUANTITY'].item()\n",
    "\n",
    "# display(data.tail())\n",
    "gasL = [final_gas_price] + gasL\n",
    "gasM = [final_gas_price] + gasM\n",
    "gasH = [final_gas_price] + gasH\n",
    "gasVH = [final_gas_price] + gasVH\n",
    "\n",
    "# display(data.tail())\n",
    "oilL = [final_oil_price] + oilL\n",
    "oilM = [final_oil_price] + oilM\n",
    "oilH = [final_oil_price] + oilH\n",
    "oilVH = [final_oil_price] + oilVH\n",
    "\n",
    "# display(data.tail())\n",
    "tradeL = [final_trade] + tradeL\n",
    "tradeM = [final_trade] + tradeM\n",
    "tradeH = [final_trade] + tradeH\n",
    "tradeVH = [final_trade] + tradeVH\n",
    "\n",
    "plt.rcParams[\"figure.figsize\"] = (20,5)\n",
    "\n",
    "x = np.arange(len(data))\n",
    "x_extr = pd.date_range(datetime.date(year=2022, month=9, day=1), periods=7, freq = 'm').tolist()\n",
    "plt.plot(data.index, data[\"UKR_QUANTITY\"], label = 'Trade Intensity')\n",
    "# plt.plot(data.index, data[\"CRUDE_PETRO\"], label = 'Oil Price')\n",
    "# plt.plot(data.index, data[\"NGAS_EUR\"], label = 'Gas Price')\n",
    "\n",
    "# plt.plot(x_extr, gasL, color = 'tab:blue', linestyle = '--')\n",
    "# plt.plot(x_extr, gasM, color = 'tab:blue', linestyle = '--')\n",
    "# plt.plot(x_extr, gasH, color = 'tab:blue', linestyle = '--')\n",
    "# plt.plot(x_extr, gasVH, color = 'tab:blue', linestyle = '--')\n",
    "\n",
    "# plt.plot(x_extr, oilL, color = 'tab:red', linestyle = '--')\n",
    "# plt.plot(x_extr, oilM, color = 'tab:red', linestyle = '--')\n",
    "# plt.plot(x_extr, oilH, color = 'tab:red', linestyle = '--')\n",
    "# plt.plot(x_extr, oilVH, color = 'tab:red', linestyle = '--')\n",
    "\n",
    "plt.plot(x_extr, tradeL, color = 'tab:blue', linestyle = '--')\n",
    "plt.plot(x_extr, tradeM, color = 'tab:blue', linestyle = '--')\n",
    "plt.plot(x_extr, tradeH, color = 'tab:blue', linestyle = '--')\n",
    "plt.plot(x_extr, tradeVH, color = 'tab:blue', linestyle = '--')\n",
    "\n",
    "# last_data = data[lambda x: x.timeidx == (x.timeidx.max() - 6)]\n",
    "# plt.scatter(data.timeidx.max() - 6, last_data[\"NGAS_EUR\"].item())\n",
    "plt.xlim([datetime.date(2019, 11, 1), datetime.date(2023, 6, 1)]);\n",
    "# plt.ylim(0,20000)\n",
    "plt.axvline(datetime.datetime(2022, 2, 20), color = 'red', linestyle = '--', label = 'Start War')\n",
    "plt.xticks(rotation = 45)\n",
    "plt.xlabel('Time')\n",
    "plt.ylabel('Quantity [Ton]')\n",
    "# plt.axvline(55, color = 'green', linestyle = '--', label = 'Start Forecast')\n",
    "plt.legend();"
   ]
  },
  {
   "cell_type": "code",
   "execution_count": 184,
   "id": "54427d1f",
   "metadata": {},
   "outputs": [
    {
     "data": {
      "application/vnd.jupyter.widget-view+json": {
       "model_id": "8135d21195874957bd06eb0b09d971bc",
       "version_major": 2,
       "version_minor": 0
      },
      "text/plain": [
       "interactive(children=(Dropdown(description='energyPrices', options=('Low', 'Moderate', 'High', 'Very High'), v…"
      ]
     },
     "metadata": {},
     "output_type": "display_data"
    }
   ],
   "source": [
    "plt.rcParams[\"figure.figsize\"] = (5,5)\n",
    "\n",
    "@widgets.interact(\n",
    "    energyPrices=['Low', 'Moderate', 'High', 'Very High'], \n",
    "    tradingIntensity = ['Low', 'Moderate', 'High', 'Very High'])\n",
    "def plotter(energyPrices, tradingIntensity):\n",
    "    simDataGas, simDataOil, simDataTrade = situation_simulator(energyPrices, tradingIntensity)\n",
    "\n",
    "    encoder_data = data[lambda x: x.timeidx > x.timeidx.max() - max_encoder_length]\n",
    "\n",
    "    # select last known data point and create decoder data from it by repeating it and incrementing the month\n",
    "    # in a real world dataset, we should not just forward fill the covariates but specify them to account\n",
    "    # for changes in special days and prices (which you absolutely should do but we are too lazy here)\n",
    "    last_data = data[lambda x: x.timeidx == x.timeidx.max()]\n",
    "    decoder_data = pd.concat(\n",
    "        [last_data.assign(date=lambda x: x.index + pd.offsets.MonthBegin(i)) for i in range(1, max_prediction_length + 1)],\n",
    "        ignore_index=True,\n",
    "    )\n",
    "\n",
    "    # add time index consistent with \"data\"\n",
    "    decoder_data[\"timeidx\"] = decoder_data[\"date\"].dt.year * 12 + decoder_data[\"date\"].dt.month\n",
    "    decoder_data[\"timeidx\"] += encoder_data[\"timeidx\"].max() + 1 - decoder_data[\"timeidx\"].min()\n",
    "\n",
    "    # adjust additional time feature(s)\n",
    "    decoder_data[\"month\"] = decoder_data.date.dt.month.astype(str).astype(\"category\")  # categories have be strings\n",
    "    decoder_data[\"year\"] = decoder_data.date.dt.year.astype(str).astype(\"category\")  # categories have be strings\n",
    "\n",
    "    for i in range(max_prediction_length):\n",
    "        replaceIndex = i\n",
    "\n",
    "        replaceValueGas = simDataGas[replaceIndex]\n",
    "        replaceValueOil = simDataOil[replaceIndex]\n",
    "        replaceValueTrade = simDataTrade[replaceIndex]\n",
    "        \n",
    "        if target_feat == \"price\":\n",
    "            replaceGas = \"NGAS_EUR\"\n",
    "            replaceOil = \"CRUDE_PETRO\"\n",
    "        \n",
    "        if target_feat == \"MA2\":\n",
    "            replaceGas = \"NGAS_EUR_MA2\"\n",
    "            replaceOil = \"CRUDE_PETRO_MA2\"\n",
    "\n",
    "        decoder_data.loc[replaceIndex, replaceGas] = replaceValueGas\n",
    "        decoder_data.loc[replaceIndex, replaceOil] = replaceValueOil\n",
    "        decoder_data.loc[replaceIndex, 'UKR_QUANTITY'] = replaceValueTrade\n",
    "        \n",
    "    # combine encoder and decoder data\n",
    "    new_prediction_data = pd.concat([encoder_data, decoder_data], ignore_index=True)\n",
    "    \n",
    "    new_raw_predictions, new_x = best_tft.predict(new_prediction_data, mode=\"raw\", return_x=True)        \n",
    "    sim_forecaster_plotter(new_raw_predictions['prediction'], data, max_prediction_length)       "
   ]
  },
  {
   "cell_type": "markdown",
   "id": "9dbedd07",
   "metadata": {},
   "source": [
    "## Variables Importance and Attention"
   ]
  },
  {
   "cell_type": "code",
   "execution_count": null,
   "id": "e7ab06ea",
   "metadata": {},
   "outputs": [],
   "source": [
    "# interpretation = best_tft.interpret_output(raw_predictions, reduction=\"sum\")\n",
    "# best_tft.plot_interpretation(interpretation);"
   ]
  },
  {
   "cell_type": "markdown",
   "id": "dedab4a6",
   "metadata": {},
   "source": [
    "## Sensitivity Analysis In-Sample Encoder Length"
   ]
  },
  {
   "cell_type": "markdown",
   "id": "0b43eb2d",
   "metadata": {},
   "source": [
    "This module has an iterative loop included to make results over the number of validation windows. Results are provided in the report and result logs."
   ]
  },
  {
   "cell_type": "code",
   "execution_count": null,
   "id": "37712220",
   "metadata": {
    "scrolled": true
   },
   "outputs": [],
   "source": [
    "max_prediction_length_list = [6,5,4,3,2]\n",
    "\n",
    "QLoss_log = []\n",
    "Hyperparameter_log = []\n",
    "raw_data_log = []\n",
    "\n",
    "for prediction_length in max_prediction_length_list:\n",
    "    print(\"Max Prediction Length: \", prediction_length)\n",
    "    max_prediction_length = prediction_length\n",
    "    max_encoder_length = 12\n",
    "\n",
    "    # Set to len(data) - max_prediction_lenth if we want to assess in sample loss\n",
    "    training_cutoff = len(data)  - max_prediction_length\n",
    "    target_feat = \"price\" #price, MA2\n",
    "\n",
    "    # For in sample validation, set to end of war (7) and control the forecast window with max_prediction_length\n",
    "    months_into_war = 7\n",
    "    months_to_drop = 7 - months_into_war\n",
    "\n",
    "    if months_to_drop == 0:\n",
    "        reduced_data_set = data.copy()\n",
    "\n",
    "    else:\n",
    "        reduced_data_set = data.head(- months_to_drop)\n",
    "\n",
    "    training = TimeSeriesDataSet(\n",
    "        # SWITCHED FROM DATA\n",
    "        reduced_data_set[lambda x: x.timeidx <= training_cutoff],\n",
    "        time_idx=\"timeidx\",\n",
    "        target=target_feat,\n",
    "        group_ids=[\"product\"],\n",
    "        min_encoder_length=max_encoder_length // 2,  # keep encoder length long (as it is in the validation set)\n",
    "        max_encoder_length=max_encoder_length,\n",
    "        min_prediction_length=1,\n",
    "        max_prediction_length=max_prediction_length,\n",
    "        static_categoricals=[\"product\"],\n",
    "        static_reals=[],\n",
    "        time_varying_known_categoricals=[\"month\"],\n",
    "        time_varying_known_reals= [\n",
    "            \"timeidx\", \n",
    "            \"NGAS_EUR\",\n",
    "            \"CRUDE_PETRO\", \n",
    "            \"UKR_QUANTITY\",\n",
    "        ],\n",
    "        time_varying_unknown_categoricals=[],\n",
    "        time_varying_unknown_reals=[\n",
    "            target_feat,\n",
    "            \"OBS_VALUE_QUANTITY_TON\",\n",
    "            \"OBS_VALUE_VALUE_1000EURO\",\n",
    "            \"MAIZE\",\n",
    "            \"WHEAT_US_HRW\",\n",
    "            \"SUNFLOWER_OIL\",\n",
    "        ],\n",
    "        target_normalizer=GroupNormalizer(\n",
    "            # Earlier GroupNormalizer\n",
    "            groups=[\"product\"], transformation=\"softplus\"\n",
    "        ),  # use softplus and normalize by group\n",
    "        add_relative_time_idx=True,\n",
    "        add_target_scales=True,\n",
    "        add_encoder_length=True\n",
    "    )\n",
    "\n",
    "    # create validation set (predict=True) which means to predict the last max_prediction_length points in time\n",
    "    # for each series\\\n",
    "    validation = TimeSeriesDataSet.from_dataset(training, reduced_data_set, predict=True, stop_randomization=True)\n",
    "\n",
    "    # SWITCHED FROM DATA\n",
    "    # validation = TimeSeriesDataSet.from_dataset(training, data, predict=True, stop_randomization=True)\n",
    "\n",
    "    # create dataloaders for model\n",
    "    batch_size = 128  # set this between 32 to 128\n",
    "    train_dataloader = training.to_dataloader(train=True, batch_size=batch_size, num_workers=0)\n",
    "    val_dataloader = validation.to_dataloader(train=False, batch_size=batch_size * 10, num_workers=0)\n",
    "    \n",
    "    # create study\n",
    "    study = optimize_hyperparameters(\n",
    "        train_dataloader,\n",
    "        val_dataloader,\n",
    "        model_path=\"optuna_test\",\n",
    "        n_trials=300,\n",
    "        max_epochs=50,\n",
    "        gradient_clip_val_range=(0.01, 1.0),\n",
    "        hidden_size_range=(8, 128),\n",
    "        hidden_continuous_size_range=(8, 128),\n",
    "        attention_head_size_range=(1, 4),\n",
    "        learning_rate_range=(0.001, 0.1),\n",
    "        dropout_range=(0.1, 0.3),\n",
    "        trainer_kwargs=dict(limit_train_batches=60),\n",
    "        reduce_on_plateau_patience=4,\n",
    "        use_learning_rate_finder=False,  # use Optuna to find ideal learning rate or use in-built learning rate finder\n",
    "    )\n",
    "    \n",
    "    res = study.best_trial.params\n",
    "\n",
    "    gradient_clip_val = res['gradient_clip_val']\n",
    "    hidden_size = res['hidden_size']\n",
    "    dropout = res['dropout']\n",
    "    hidden_continuous_size = res['hidden_continuous_size']\n",
    "    attention_head_size = res['attention_head_size']\n",
    "    learning_rate = res['learning_rate']\n",
    "    \n",
    "    Hyperparameter_log.append(res)\n",
    "    \n",
    "    # configure network and trainer\n",
    "    early_stop_callback = EarlyStopping(monitor=\"val_loss\", min_delta=1e-4, patience=10, verbose=False, mode=\"min\")\n",
    "    lr_logger = LearningRateMonitor()  # log the learning rate\n",
    "    logger = TensorBoardLogger(\"lightning_logs\")  # logging results to a tensorboard\n",
    "\n",
    "    trainer = pl.Trainer(\n",
    "        max_epochs=400,\n",
    "        gpus=0,\n",
    "        enable_model_summary=True,\n",
    "        gradient_clip_val=gradient_clip_val,\n",
    "        limit_train_batches=30,  # coment in for training, running valiation every 30 batches\n",
    "        # fast_dev_run=True,  # comment in to check that networkor dataset has no serious bugs\n",
    "        callbacks=[lr_logger, early_stop_callback],\n",
    "        logger=logger,\n",
    "    )\n",
    "\n",
    "\n",
    "    tft = TemporalFusionTransformer.from_dataset(\n",
    "        training,\n",
    "        learning_rate=learning_rate,\n",
    "        hidden_size=hidden_size,\n",
    "        attention_head_size=attention_head_size,\n",
    "        dropout=dropout,\n",
    "        hidden_continuous_size=hidden_continuous_size,\n",
    "        output_size=7,  # 7 quantiles by default\n",
    "        loss=QuantileLoss(),\n",
    "        log_interval=10,  # uncomment for learning rate finder and otherwise, e.g. to 10 for logging every 10 batches\n",
    "        reduce_on_plateau_patience=4,\n",
    "    )\n",
    "    \n",
    "    # fit network\n",
    "    trainer.fit(\n",
    "        tft,\n",
    "        train_dataloaders=train_dataloader,\n",
    "        val_dataloaders=val_dataloader,\n",
    "    )\n",
    "\n",
    "    best_tft = tft\n",
    "    \n",
    "    raw_predictions, x = best_tft.predict(val_dataloader, mode=\"raw\", return_x=True)\n",
    "    y_pred = best_tft.to_quantiles(raw_predictions)\n",
    "    \n",
    "    interpretation = best_tft.interpret_output(raw_predictions, reduction=\"sum\")\n",
    "    raw_data_log.append(raw_predictions)\n",
    "    \n",
    "#     best_tft.plot_prediction(x, raw_predictions, idx=0, add_loss_to_title=True)\n",
    "#     plt.show()\n",
    "    \n",
    "    raw_predictions = raw_predictions['prediction']\n",
    "    \n",
    "\n",
    "    \n",
    "    q02, q10, q25, q5, q75, q90, q98 = [], [], [], [], [], [], []\n",
    "    \n",
    "    for i in range(len(raw_predictions[0])):\n",
    "        q02.append(sorted(raw_predictions[0][i])[0].item())\n",
    "        q10.append(sorted(raw_predictions[0][i])[1].item())\n",
    "        q25.append(sorted(raw_predictions[0][i])[2].item())\n",
    "        q5.append(sorted(raw_predictions[0][i])[3].item())\n",
    "        q75.append(sorted(raw_predictions[0][i])[4].item())\n",
    "        q90.append(sorted(raw_predictions[0][i])[5].item())\n",
    "        q98.append(sorted(raw_predictions[0][i])[6].item())\n",
    "        \n",
    "    data_plotter = data.copy()\n",
    "    data_plotter[\"timeidx_mov\"] = data_plotter[\"timeidx\"] - (len(data_plotter) - max_prediction_length)\n",
    "        \n",
    "    MA2_val = list(data_plotter['MA2'].tail(max_prediction_length))\n",
    "    price_val = list(data_plotter['price'].tail(max_prediction_length))\n",
    "    \n",
    "#     MAPE_MA2 = mean_absolute_percentage_error(q5, MA2_val)\n",
    "#     MAPE_price = mean_absolute_percentage_error(q5, price_val)\n",
    "    target =  torch.FloatTensor(price_val)\n",
    "    print(torch.mean(QuantileLoss().loss(y_pred, target)))\n",
    "\n",
    "    \n",
    "#     MAPEMA2_log.append(MAPE_MA2)\n",
    "#     MAPE_log.append(MAPE_price)\n",
    "    QLoss_log.append(torch.mean(QuantileLoss().loss(y_pred, target)).item())\n",
    "    \n",
    "#     print('Quantile Loss = ', \"{:.3f}\".format(torch.mean(QuantileLoss().loss(y_pred, target)).item()))\n"
   ]
  },
  {
   "cell_type": "code",
   "execution_count": null,
   "id": "57b23fcc",
   "metadata": {},
   "outputs": [],
   "source": [
    "decoder_tot = np.zeros(len(feature_importance_log[0]['decoder_variables']))\n",
    "\n",
    "rel_feature_importance_log = feature_importance_log[2:]\n",
    "\n",
    "for log in rel_feature_importance_log:\n",
    "    for var in range(len(log['decoder_variables'])):\n",
    "        decoder_tot[var] += log['decoder_variables'][var]\n",
    "\n",
    "decoder_rel = decoder_tot[2:(len(decoder_tot) - 1)]\n",
    "variables = [\"Total Import Quantity\", \"EU Natural Gas\", \"Crude Petro\", \"Ukraine Import Quantity\", \"Gold\", \"Avg Temp Ukraine\", \"Avg Temp France\", \"Avg Temp Ger\"]\n",
    "plt.barh(variables, decoder_rel / sum(decoder_rel) * 100)\n",
    "plt.xlabel(\"Variable Importance [%]\");"
   ]
  },
  {
   "cell_type": "markdown",
   "id": "51981650",
   "metadata": {},
   "source": [
    "## Feature Importance \n",
    "\n",
    "Results of different runs are shown in Result Logs"
   ]
  },
  {
   "cell_type": "code",
   "execution_count": null,
   "id": "afad7af1",
   "metadata": {},
   "outputs": [],
   "source": [
    "f2 = pd.DataFrame(np.array([[0.16,0.13,0.20,0.12,0.11,0.12,0.06,0.10], \n",
    "                            [0.09,0.18,0.18,0.15,0.12,0.09,0.10,0.09], \n",
    "                            [0.08,0.26,0.39,0.10,0.18,0.16,0.06,0.09]]), \n",
    "                  columns=[\"Total Import Quantity\",\"European Natural Gas\",\"Crude Oil\",\"Ukraine Import Quantity\",\"Gold\",\"Average Temperature Ukraine\",\"Average Temparture France\",\"Average Temperature Germany\"], \n",
    "                  index = ['Maize', 'Sunflower Oil', 'Wheat'])\n",
    "\n",
    "f2 = f2 * 100\n",
    "\n",
    "plt.rcParams[\"figure.figsize\"] = (10,5)\n",
    "colorsbarh = plt.cm.Spectral(np.linspace(0,1,8))\n",
    "f2.plot.barh(color = colorsbarh)\n",
    "plt.xlabel('Variable Importance [%]');"
   ]
  },
  {
   "cell_type": "code",
   "execution_count": null,
   "id": "162944e7",
   "metadata": {},
   "outputs": [],
   "source": []
  }
 ],
 "metadata": {
  "kernelspec": {
   "display_name": "Python 3 (ipykernel)",
   "language": "python",
   "name": "python3"
  },
  "language_info": {
   "codemirror_mode": {
    "name": "ipython",
    "version": 3
   },
   "file_extension": ".py",
   "mimetype": "text/x-python",
   "name": "python",
   "nbconvert_exporter": "python",
   "pygments_lexer": "ipython3",
   "version": "3.9.13"
  }
 },
 "nbformat": 4,
 "nbformat_minor": 5
}
