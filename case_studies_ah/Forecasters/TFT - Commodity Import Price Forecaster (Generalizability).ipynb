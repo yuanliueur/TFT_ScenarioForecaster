{
 "cells": [
  {
   "cell_type": "markdown",
   "id": "c3730c80",
   "metadata": {},
   "source": [
    "## Install Required Packages\n",
    "Important to make sure that PyTorch is correctly installed! Handbook is provided in the Github"
   ]
  },
  {
   "cell_type": "code",
   "execution_count": 1,
   "id": "9d3c50ee",
   "metadata": {},
   "outputs": [],
   "source": [
    "import os\n",
    "import warnings\n",
    "\n",
    "warnings.filterwarnings(\"ignore\")  # avoid printing out absolute paths\n",
    "os.chdir(\"/Users/yuanliu/Documents/Erasmus University/MSc Quantitive Marketing and Business Analytics/P3/Seminar Case Study/Data/case_studies_ah/\")"
   ]
  },
  {
   "cell_type": "code",
   "execution_count": 2,
   "id": "43f45f27",
   "metadata": {},
   "outputs": [],
   "source": [
    "%%capture \n",
    "pip install pyarrow"
   ]
  },
  {
   "cell_type": "code",
   "execution_count": 3,
   "id": "a0520468",
   "metadata": {},
   "outputs": [],
   "source": [
    "%%capture \n",
    "pip install fastparquet"
   ]
  },
  {
   "cell_type": "code",
   "execution_count": 4,
   "id": "2fc3c36e",
   "metadata": {},
   "outputs": [],
   "source": [
    "%%capture\n",
    "pip install ipywidget"
   ]
  },
  {
   "cell_type": "markdown",
   "id": "55ced9ed",
   "metadata": {},
   "source": [
    "## Import Libraries"
   ]
  },
  {
   "cell_type": "code",
   "execution_count": 5,
   "id": "a33ea867",
   "metadata": {},
   "outputs": [],
   "source": [
    "import copy\n",
    "from pathlib import Path\n",
    "import warnings\n",
    "import datetime\n",
    "\n",
    "from matplotlib import pyplot as plt\n",
    "\n",
    "import numpy as np\n",
    "import pandas as pd\n",
    "import pytorch_lightning as pl\n",
    "from pytorch_lightning.callbacks import EarlyStopping, LearningRateMonitor\n",
    "from pytorch_lightning.loggers import TensorBoardLogger\n",
    "import torch\n",
    "\n",
    "from pytorch_forecasting import Baseline, TemporalFusionTransformer, TimeSeriesDataSet\n",
    "from pytorch_forecasting.data import GroupNormalizer, EncoderNormalizer\n",
    "from pytorch_forecasting.metrics import SMAPE, PoissonLoss, QuantileLoss\n",
    "from pytorch_forecasting.models.temporal_fusion_transformer.tuning import optimize_hyperparameters\n",
    "\n",
    "import ipywidgets as widgets\n",
    "from ipywidgets import HBox, VBox\n",
    "from IPython.display import display\n",
    "\n",
    "from sklearn.metrics import mean_absolute_percentage_error\n",
    "\n",
    "plt.style.use('ggplot')\n",
    "\n",
    "colors = plt.cm.Spectral(np.linspace(0,1,30))\n",
    "plt.rcParams[\"figure.figsize\"] = (20,5)\n",
    "\n",
    "# Set Seeds\n",
    "seed = 2\n",
    "np.random.seed(seed)\n",
    "torch.manual_seed(seed);"
   ]
  },
  {
   "cell_type": "markdown",
   "id": "ada4e8ae",
   "metadata": {},
   "source": [
    "## Import Data\n",
    "This notebook works the same for all three commodities, first we define the commodity of interest. Choices:\n",
    "- SUNFLOWER OIL\n",
    "- MAIZE\n",
    "- WHEAT"
   ]
  },
  {
   "cell_type": "code",
   "execution_count": 6,
   "id": "0c7ab1fc",
   "metadata": {},
   "outputs": [],
   "source": [
    "product_type = \"WHEAT\"\n",
    "country_filter = \"Germany\" # 'Germany' 'Denmark' 'Spain' 'Belgium' are in the dataset\n",
    "date_filter = datetime.date(year = 2018, month = 1, day = 1)\n",
    "date_end = datetime.date(year = 2022, month = 10, day = 1)"
   ]
  },
  {
   "cell_type": "code",
   "execution_count": 7,
   "id": "82240aa8",
   "metadata": {},
   "outputs": [],
   "source": [
    "if product_type == \"WHEAT\":\n",
    "    trade_data = pd.read_csv(\"Data/wheat_similar_countries.csv\")\n",
    "    \n",
    "if product_type == \"MAIZE\":\n",
    "    trade_data = pd.read_csv(\"Data/maize_corn_similar_countries_new.csv\")\n",
    "    \n",
    "if product_type == \"SUNFLOWER OIL\":\n",
    "    trade_data = pd.read_csv(\"Data/sunflower_oil_similar_countries_new.csv\")\n",
    "    \n",
    "# Add Time Period steps\n",
    "trade_data[\"TIME_PERIOD\"] = pd.to_datetime(trade_data[\"TIME_PERIOD\"], format = '%Y-%m').dt.date\n",
    "trade_data = trade_data.rename(columns={\"partner\": \"PARTNER_codes\", \"declarant\": \"DECLARANT_codes\"})\n",
    "\n",
    "# Make sure that the right product is isolated\n",
    "products = trade_data[\"product\"].drop_duplicates().to_list()\n",
    "\n",
    "if product_type == 'SUNFLOWER OIL' or product_type == 'MAIZE':\n",
    "    product_filter = products[0]\n",
    "\n",
    "if product_type == 'WHEAT':\n",
    "    product_filter = products[0]\n",
    "    \n",
    "# Add correct labels to the partner and declarent indices\n",
    "    \n",
    "partner_countries = pd.read_csv(\"Data/partners.csv\", sep = \";\")\n",
    "declarant_countries = pd.read_csv(\"Data/declarants.csv\", sep = \";\")\n",
    "trade_data = pd.merge(trade_data, partner_countries, on = ['PARTNER_codes'], how = 'inner')\n",
    "trade_data = pd.merge(trade_data, declarant_countries, on = ['DECLARANT_codes'], how = 'inner')\n",
    "\n",
    "# Filter on correct declarant country\n",
    "trade_data = trade_data[(trade_data[\"DECLARANT_Labels\"] == country_filter)]\n",
    "\n",
    "trade_data_pivot = trade_data.pivot(index=['PARTNER_Labels', 'TIME_PERIOD', 'product'], \n",
    "                              columns='indicators', \n",
    "                              values=['OBS_VALUE'])\n",
    "\n",
    "trade_data_pivot.columns = trade_data_pivot.columns.map('_'.join)\n",
    "trade_data_pivot = trade_data_pivot.reset_index()\n",
    "trade_data_pivot = trade_data_pivot.dropna()\n",
    "\n",
    "# Dataframe for total trade data per month which we are forecasting\n",
    "trade_data_total = trade_data_pivot\\\n",
    ".groupby(['product', 'TIME_PERIOD']).agg({'OBS_VALUE_QUANTITY_TON': 'sum', \n",
    "                                          'OBS_VALUE_VALUE_1000EURO': 'sum'})\n",
    "\n",
    "trade_data_total = trade_data_total.reset_index()\n",
    "trade_data_total['price'] = trade_data_total['OBS_VALUE_VALUE_1000EURO']/trade_data_total['OBS_VALUE_QUANTITY_TON']\n",
    "trade_data_total = trade_data_total[(trade_data_total[\"product\"] == product_filter)]\n",
    "\n",
    "trade_data_total = trade_data_total.set_index(\"TIME_PERIOD\")\n",
    "trade_data_total = trade_data_total[(trade_data_total.index >= date_filter)]\n",
    "\n",
    "# Import other commodities and use same procedure\n",
    "oil_data = pd.read_csv(\"Data/CMO-Historical-Data-Monthly.csv\", header = 6)\n",
    "oil_data = oil_data.rename(columns = {\"Unnamed: 0\" : \"TIME_PERIOD\"})\n",
    "oil_data['TIME_PERIOD'] = oil_data['TIME_PERIOD'].str.replace(r'M', '-')\n",
    "oil_data[\"TIME_PERIOD\"] = pd.to_datetime(oil_data[\"TIME_PERIOD\"], format = '%Y-%m').dt.date\n",
    "to_replace = oil_data[\"SUNFLOWER_OIL\"].iloc[0]\n",
    "oil_data = oil_data.replace(to_replace, 0)\n",
    "oil_data = oil_data.drop_duplicates()\n",
    "oil_data = oil_data.set_index(\"TIME_PERIOD\")\n",
    "oil_data = oil_data[(oil_data.index >= date_filter) & (oil_data.index <= date_end)]\n",
    "\n",
    "# Isolate Ukraine - Netherlands Import data for later use\n",
    "Ukr_Data = trade_data_pivot[(trade_data_pivot['PARTNER_Labels']=='Ukraine') & (trade_data_pivot[\"product\"] == product_filter) & (trade_data_pivot[\"TIME_PERIOD\"] >= date_filter)][['TIME_PERIOD','OBS_VALUE_QUANTITY_TON']]\n",
    "Ukr_Data = Ukr_Data.set_index(\"TIME_PERIOD\")\n",
    "Ukr_Data = Ukr_Data.rename(columns = {\"OBS_VALUE_QUANTITY_TON\" : \"UKR_QUANTITY\"})\n",
    "trade_data_total['UKR_QUANTITY'] = Ukr_Data['UKR_QUANTITY']\n",
    "trade_data_total = trade_data_total.fillna(0)\n",
    "\n",
    "# Import NOAA weather data\n",
    "weather_data = pd.read_csv(\"Data/global_temperature_data.csv\")\n",
    "weather_data = weather_data.rename(columns = {\"yearmonth\" : \"TIME_PERIOD\"})\n",
    "weather_data[\"TIME_PERIOD\"] = pd.to_datetime(weather_data[\"TIME_PERIOD\"], format = '%Y%m').dt.date\n",
    "weather_data = weather_data.set_index(\"TIME_PERIOD\")\n",
    "weather_data = weather_data[(weather_data.index >= date_filter) & (weather_data.index <= date_end)]\n",
    "\n",
    "weather_ukr = weather_data[weather_data['weather_countryname'] == 'Ukraine']\n",
    "weather_fr = weather_data[weather_data['weather_countryname'] == 'France']\n",
    "weather_ger = weather_data[weather_data['weather_countryname'] == 'Germany']\n",
    "\n",
    "# Merge data to one frame \n",
    "data = trade_data_total.merge(oil_data, on = 'TIME_PERIOD')\n",
    "data = data[data.columns.drop(list(data.filter(regex='Unnamed')))]\n",
    "\n",
    "data['avgTempUkr'] = weather_ukr[\"AVG_TAVG\"] / 10\n",
    "data['avgTempFr'] = weather_fr[\"AVG_TAVG\"] / 10\n",
    "data['avgTempGer'] = weather_ger[\"AVG_TAVG\"] / 10\n"
   ]
  },
  {
   "cell_type": "markdown",
   "id": "43b663a9",
   "metadata": {},
   "source": [
    "Add date variables"
   ]
  },
  {
   "cell_type": "code",
   "execution_count": 8,
   "id": "375f7720",
   "metadata": {},
   "outputs": [],
   "source": [
    "data['product'] = data['product'].astype(str)\n",
    "data['timeidx'] = range(len(data))\n",
    "\n",
    "data['year'] = pd.DatetimeIndex(data.index).year.astype(str).astype('category')\n",
    "data['month'] = pd.DatetimeIndex(data.index).month.astype(str).astype('category')\n",
    "\n",
    "test_split = datetime.date(year = 2021, month = 1, day = 1)\n",
    "training_data = data[(data.index < test_split)]\n",
    "\n",
    "# Add MA2 \n",
    "data['NGAS_EUR_MA2'] = data[\"NGAS_EUR\"].rolling(window=2).mean()\n",
    "data['CRUDE_PETRO_MA2'] = data[\"CRUDE_PETRO\"].rolling(window=2).mean()"
   ]
  },
  {
   "cell_type": "code",
   "execution_count": 9,
   "id": "18ba0b27",
   "metadata": {
    "scrolled": true
   },
   "outputs": [
    {
     "data": {
      "text/html": [
       "<div>\n",
       "<style scoped>\n",
       "    .dataframe tbody tr th:only-of-type {\n",
       "        vertical-align: middle;\n",
       "    }\n",
       "\n",
       "    .dataframe tbody tr th {\n",
       "        vertical-align: top;\n",
       "    }\n",
       "\n",
       "    .dataframe thead th {\n",
       "        text-align: right;\n",
       "    }\n",
       "</style>\n",
       "<table border=\"1\" class=\"dataframe\">\n",
       "  <thead>\n",
       "    <tr style=\"text-align: right;\">\n",
       "      <th></th>\n",
       "      <th>product</th>\n",
       "      <th>OBS_VALUE_QUANTITY_TON</th>\n",
       "      <th>OBS_VALUE_VALUE_1000EURO</th>\n",
       "      <th>price</th>\n",
       "      <th>UKR_QUANTITY</th>\n",
       "      <th>CRUDE_PETRO</th>\n",
       "      <th>CRUDE_BRENT</th>\n",
       "      <th>CRUDE_DUBAI</th>\n",
       "      <th>CRUDE_WTI</th>\n",
       "      <th>COAL_AUS</th>\n",
       "      <th>...</th>\n",
       "      <th>PLATINUM</th>\n",
       "      <th>SILVER</th>\n",
       "      <th>avgTempUkr</th>\n",
       "      <th>avgTempFr</th>\n",
       "      <th>avgTempGer</th>\n",
       "      <th>timeidx</th>\n",
       "      <th>year</th>\n",
       "      <th>month</th>\n",
       "      <th>NGAS_EUR_MA2</th>\n",
       "      <th>CRUDE_PETRO_MA2</th>\n",
       "    </tr>\n",
       "    <tr>\n",
       "      <th>TIME_PERIOD</th>\n",
       "      <th></th>\n",
       "      <th></th>\n",
       "      <th></th>\n",
       "      <th></th>\n",
       "      <th></th>\n",
       "      <th></th>\n",
       "      <th></th>\n",
       "      <th></th>\n",
       "      <th></th>\n",
       "      <th></th>\n",
       "      <th></th>\n",
       "      <th></th>\n",
       "      <th></th>\n",
       "      <th></th>\n",
       "      <th></th>\n",
       "      <th></th>\n",
       "      <th></th>\n",
       "      <th></th>\n",
       "      <th></th>\n",
       "      <th></th>\n",
       "      <th></th>\n",
       "    </tr>\n",
       "  </thead>\n",
       "  <tbody>\n",
       "    <tr>\n",
       "      <th>2022-06-01</th>\n",
       "      <td>100199</td>\n",
       "      <td>333258.5</td>\n",
       "      <td>119062.78</td>\n",
       "      <td>0.357269</td>\n",
       "      <td>510.2</td>\n",
       "      <td>116.80</td>\n",
       "      <td>120.08</td>\n",
       "      <td>115.73</td>\n",
       "      <td>114.59</td>\n",
       "      <td>374.08</td>\n",
       "      <td>...</td>\n",
       "      <td>956.59</td>\n",
       "      <td>21.56</td>\n",
       "      <td>20.945122</td>\n",
       "      <td>19.734634</td>\n",
       "      <td>18.873799</td>\n",
       "      <td>53</td>\n",
       "      <td>2022</td>\n",
       "      <td>6</td>\n",
       "      <td>31.365</td>\n",
       "      <td>113.450</td>\n",
       "    </tr>\n",
       "    <tr>\n",
       "      <th>2022-07-01</th>\n",
       "      <td>100199</td>\n",
       "      <td>225598.2</td>\n",
       "      <td>80964.05</td>\n",
       "      <td>0.358886</td>\n",
       "      <td>4387.7</td>\n",
       "      <td>105.08</td>\n",
       "      <td>108.92</td>\n",
       "      <td>106.48</td>\n",
       "      <td>99.85</td>\n",
       "      <td>402.20</td>\n",
       "      <td>...</td>\n",
       "      <td>869.25</td>\n",
       "      <td>19.08</td>\n",
       "      <td>21.286160</td>\n",
       "      <td>22.094888</td>\n",
       "      <td>19.872343</td>\n",
       "      <td>54</td>\n",
       "      <td>2022</td>\n",
       "      <td>7</td>\n",
       "      <td>42.445</td>\n",
       "      <td>110.940</td>\n",
       "    </tr>\n",
       "    <tr>\n",
       "      <th>2022-08-01</th>\n",
       "      <td>100199</td>\n",
       "      <td>325813.5</td>\n",
       "      <td>109725.92</td>\n",
       "      <td>0.336775</td>\n",
       "      <td>2520.4</td>\n",
       "      <td>95.97</td>\n",
       "      <td>98.60</td>\n",
       "      <td>97.75</td>\n",
       "      <td>91.57</td>\n",
       "      <td>406.97</td>\n",
       "      <td>...</td>\n",
       "      <td>908.65</td>\n",
       "      <td>19.72</td>\n",
       "      <td>22.452331</td>\n",
       "      <td>22.188199</td>\n",
       "      <td>20.880088</td>\n",
       "      <td>55</td>\n",
       "      <td>2022</td>\n",
       "      <td>8</td>\n",
       "      <td>60.685</td>\n",
       "      <td>100.525</td>\n",
       "    </tr>\n",
       "    <tr>\n",
       "      <th>2022-09-01</th>\n",
       "      <td>100199</td>\n",
       "      <td>338978.0</td>\n",
       "      <td>113393.67</td>\n",
       "      <td>0.334516</td>\n",
       "      <td>8270.9</td>\n",
       "      <td>88.22</td>\n",
       "      <td>90.16</td>\n",
       "      <td>90.63</td>\n",
       "      <td>83.87</td>\n",
       "      <td>430.81</td>\n",
       "      <td>...</td>\n",
       "      <td>881.24</td>\n",
       "      <td>18.94</td>\n",
       "      <td>13.617683</td>\n",
       "      <td>17.065057</td>\n",
       "      <td>13.996936</td>\n",
       "      <td>56</td>\n",
       "      <td>2022</td>\n",
       "      <td>9</td>\n",
       "      <td>64.570</td>\n",
       "      <td>92.095</td>\n",
       "    </tr>\n",
       "    <tr>\n",
       "      <th>2022-10-01</th>\n",
       "      <td>100199</td>\n",
       "      <td>432151.6</td>\n",
       "      <td>152650.60</td>\n",
       "      <td>0.353234</td>\n",
       "      <td>6573.5</td>\n",
       "      <td>90.33</td>\n",
       "      <td>93.13</td>\n",
       "      <td>90.59</td>\n",
       "      <td>87.26</td>\n",
       "      <td>389.79</td>\n",
       "      <td>...</td>\n",
       "      <td>914.67</td>\n",
       "      <td>19.43</td>\n",
       "      <td>11.385827</td>\n",
       "      <td>15.956502</td>\n",
       "      <td>13.011634</td>\n",
       "      <td>57</td>\n",
       "      <td>2022</td>\n",
       "      <td>10</td>\n",
       "      <td>49.060</td>\n",
       "      <td>89.275</td>\n",
       "    </tr>\n",
       "  </tbody>\n",
       "</table>\n",
       "<p>5 rows × 84 columns</p>\n",
       "</div>"
      ],
      "text/plain": [
       "            product  OBS_VALUE_QUANTITY_TON  OBS_VALUE_VALUE_1000EURO  \\\n",
       "TIME_PERIOD                                                             \n",
       "2022-06-01   100199                333258.5                 119062.78   \n",
       "2022-07-01   100199                225598.2                  80964.05   \n",
       "2022-08-01   100199                325813.5                 109725.92   \n",
       "2022-09-01   100199                338978.0                 113393.67   \n",
       "2022-10-01   100199                432151.6                 152650.60   \n",
       "\n",
       "                price  UKR_QUANTITY  CRUDE_PETRO  CRUDE_BRENT  CRUDE_DUBAI  \\\n",
       "TIME_PERIOD                                                                  \n",
       "2022-06-01   0.357269         510.2       116.80       120.08       115.73   \n",
       "2022-07-01   0.358886        4387.7       105.08       108.92       106.48   \n",
       "2022-08-01   0.336775        2520.4        95.97        98.60        97.75   \n",
       "2022-09-01   0.334516        8270.9        88.22        90.16        90.63   \n",
       "2022-10-01   0.353234        6573.5        90.33        93.13        90.59   \n",
       "\n",
       "            CRUDE_WTI COAL_AUS  ... PLATINUM  SILVER  avgTempUkr  avgTempFr  \\\n",
       "TIME_PERIOD                     ...                                           \n",
       "2022-06-01     114.59   374.08  ...   956.59   21.56   20.945122  19.734634   \n",
       "2022-07-01      99.85   402.20  ...   869.25   19.08   21.286160  22.094888   \n",
       "2022-08-01      91.57   406.97  ...   908.65   19.72   22.452331  22.188199   \n",
       "2022-09-01      83.87   430.81  ...   881.24   18.94   13.617683  17.065057   \n",
       "2022-10-01      87.26   389.79  ...   914.67   19.43   11.385827  15.956502   \n",
       "\n",
       "            avgTempGer  timeidx  year  month  NGAS_EUR_MA2  CRUDE_PETRO_MA2  \n",
       "TIME_PERIOD                                                                  \n",
       "2022-06-01   18.873799       53  2022      6        31.365          113.450  \n",
       "2022-07-01   19.872343       54  2022      7        42.445          110.940  \n",
       "2022-08-01   20.880088       55  2022      8        60.685          100.525  \n",
       "2022-09-01   13.996936       56  2022      9        64.570           92.095  \n",
       "2022-10-01   13.011634       57  2022     10        49.060           89.275  \n",
       "\n",
       "[5 rows x 84 columns]"
      ]
     },
     "execution_count": 9,
     "metadata": {},
     "output_type": "execute_result"
    }
   ],
   "source": [
    "data.tail()"
   ]
  },
  {
   "cell_type": "markdown",
   "id": "59e71579",
   "metadata": {},
   "source": [
    "## Set-up Model"
   ]
  },
  {
   "cell_type": "markdown",
   "id": "df5f7c58",
   "metadata": {},
   "source": [
    "Select the validation window (max_prediction_length) consisting of the number of final months of the war and the training window (max_encoder_length). max_prediction_length also controls the out-of-sample scenario forecasting length"
   ]
  },
  {
   "cell_type": "code",
   "execution_count": 12,
   "id": "4cc7e0c3",
   "metadata": {},
   "outputs": [],
   "source": [
    "max_prediction_length = 6\n",
    "max_encoder_length = 12\n",
    "\n",
    "# Set to len(data) - max_prediction_lenth if we want to assess in sample loss\n",
    "training_cutoff = len(data) - max_prediction_length\n",
    "\n",
    "# Make data copy\n",
    "reduced_data_set = data.copy()\n",
    "    \n",
    "training = TimeSeriesDataSet(\n",
    "    # SWITCHED FROM DATA\n",
    "    reduced_data_set[lambda x: x.timeidx <= training_cutoff],\n",
    "    time_idx=\"timeidx\",\n",
    "    target=\"price\",\n",
    "    group_ids=[\"product\"],\n",
    "    min_encoder_length=max_encoder_length // 2,  # keep encoder length long (as it is in the validation set)\n",
    "    max_encoder_length=max_encoder_length,\n",
    "    min_prediction_length=1,\n",
    "    max_prediction_length=max_prediction_length,\n",
    "    static_categoricals=[\"product\"],\n",
    "    static_reals=[],\n",
    "    time_varying_known_categoricals=[\"month\"],\n",
    "    time_varying_known_reals= [\n",
    "        \"timeidx\", \n",
    "        \"NGAS_EUR\", \n",
    "        \"CRUDE_PETRO\", \n",
    "        \"UKR_QUANTITY\"\n",
    "    ],\n",
    "    time_varying_unknown_categoricals=[],\n",
    "    time_varying_unknown_reals=[\n",
    "        \"price\",\n",
    "        \"OBS_VALUE_QUANTITY_TON\",\n",
    "        \"OBS_VALUE_VALUE_1000EURO\",\n",
    "        \"MAIZE\",\n",
    "        \"WHEAT_US_HRW\",\n",
    "        \"SUNFLOWER_OIL\",\n",
    "    ],\n",
    "    target_normalizer=GroupNormalizer(\n",
    "        # Earlier GroupNormalizer\n",
    "        groups=[\"product\"], transformation=\"softplus\"\n",
    "    ),  # use softplus and normalize by group\n",
    "    add_relative_time_idx=True,\n",
    "    add_target_scales=True,\n",
    "    add_encoder_length=True\n",
    ")\n",
    "\n",
    "# create validation set (predict=True) which means to predict the last max_prediction_length points in time\n",
    "# for each series\\\n",
    "validation = TimeSeriesDataSet.from_dataset(training, reduced_data_set, predict=True, stop_randomization=True)\n",
    "\n",
    "# SWITCHED FROM DATA\n",
    "# validation = TimeSeriesDataSet.from_dataset(training, data, predict=True, stop_randomization=True)\n",
    "\n",
    "# create dataloaders for model\n",
    "batch_size = 128  # set this between 32 to 128\n",
    "train_dataloader = training.to_dataloader(train=True, batch_size=batch_size, num_workers=0)\n",
    "val_dataloader = validation.to_dataloader(train=False, batch_size=batch_size * 10, num_workers=0)\n"
   ]
  },
  {
   "cell_type": "markdown",
   "id": "d23ca0af",
   "metadata": {},
   "source": [
    "## Hyperparameter Tuning\n",
    "\n",
    "Optuna Hyperparameter tuning study was used to find the best hyperparameter combination"
   ]
  },
  {
   "cell_type": "code",
   "execution_count": 13,
   "id": "735083a6",
   "metadata": {},
   "outputs": [
    {
     "name": "stderr",
     "output_type": "stream",
     "text": [
      "\u001b[32m[I 2023-03-15 17:23:54,283]\u001b[0m A new study created in memory with name: no-name-6bac402c-6058-4472-8017-d4f3254c69c2\u001b[0m\n",
      "GPU available: True (mps), used: False\n",
      "TPU available: False, using: 0 TPU cores\n",
      "IPU available: False, using: 0 IPUs\n",
      "HPU available: False, using: 0 HPUs\n",
      "`Trainer.fit` stopped: `max_epochs=50` reached.\n",
      "\u001b[32m[I 2023-03-15 17:24:01,676]\u001b[0m Trial 0 finished with value: 0.0396118126809597 and parameters: {'gradient_clip_val': 0.5447266604677676, 'hidden_size': 111, 'dropout': 0.12580443905565267, 'hidden_continuous_size': 42, 'attention_head_size': 4, 'learning_rate': 0.03843727162012779}. Best is trial 0 with value: 0.0396118126809597.\u001b[0m\n",
      "GPU available: True (mps), used: False\n",
      "TPU available: False, using: 0 TPU cores\n",
      "IPU available: False, using: 0 IPUs\n",
      "HPU available: False, using: 0 HPUs\n",
      "`Trainer.fit` stopped: `max_epochs=50` reached.\n",
      "\u001b[32m[I 2023-03-15 17:24:07,434]\u001b[0m Trial 1 finished with value: 0.07027393579483032 and parameters: {'gradient_clip_val': 0.09199614830191527, 'hidden_size': 50, 'dropout': 0.24928264165523323, 'hidden_continuous_size': 21, 'attention_head_size': 3, 'learning_rate': 0.010479430135800183}. Best is trial 0 with value: 0.0396118126809597.\u001b[0m\n",
      "GPU available: True (mps), used: False\n",
      "TPU available: False, using: 0 TPU cores\n",
      "IPU available: False, using: 0 IPUs\n",
      "HPU available: False, using: 0 HPUs\n",
      "\u001b[32m[I 2023-03-15 17:24:07,769]\u001b[0m Trial 2 pruned. Trial was pruned at epoch 1.\u001b[0m\n",
      "GPU available: True (mps), used: False\n",
      "TPU available: False, using: 0 TPU cores\n",
      "IPU available: False, using: 0 IPUs\n",
      "HPU available: False, using: 0 HPUs\n",
      "\u001b[32m[I 2023-03-15 17:24:08,037]\u001b[0m Trial 3 pruned. Trial was pruned at epoch 1.\u001b[0m\n",
      "GPU available: True (mps), used: False\n",
      "TPU available: False, using: 0 TPU cores\n",
      "IPU available: False, using: 0 IPUs\n",
      "HPU available: False, using: 0 HPUs\n",
      "\u001b[32m[I 2023-03-15 17:24:08,274]\u001b[0m Trial 4 pruned. Trial was pruned at epoch 1.\u001b[0m\n",
      "GPU available: True (mps), used: False\n",
      "TPU available: False, using: 0 TPU cores\n",
      "IPU available: False, using: 0 IPUs\n",
      "HPU available: False, using: 0 HPUs\n",
      "\u001b[32m[I 2023-03-15 17:24:08,547]\u001b[0m Trial 5 pruned. Trial was pruned at epoch 1.\u001b[0m\n",
      "GPU available: True (mps), used: False\n",
      "TPU available: False, using: 0 TPU cores\n",
      "IPU available: False, using: 0 IPUs\n",
      "HPU available: False, using: 0 HPUs\n",
      "\u001b[32m[I 2023-03-15 17:24:09,023]\u001b[0m Trial 6 pruned. Trial was pruned at epoch 1.\u001b[0m\n",
      "GPU available: True (mps), used: False\n",
      "TPU available: False, using: 0 TPU cores\n",
      "IPU available: False, using: 0 IPUs\n",
      "HPU available: False, using: 0 HPUs\n",
      "\u001b[32m[I 2023-03-15 17:24:09,292]\u001b[0m Trial 7 pruned. Trial was pruned at epoch 1.\u001b[0m\n",
      "GPU available: True (mps), used: False\n",
      "TPU available: False, using: 0 TPU cores\n",
      "IPU available: False, using: 0 IPUs\n",
      "HPU available: False, using: 0 HPUs\n",
      "\u001b[32m[I 2023-03-15 17:24:09,682]\u001b[0m Trial 8 pruned. Trial was pruned at epoch 1.\u001b[0m\n",
      "GPU available: True (mps), used: False\n",
      "TPU available: False, using: 0 TPU cores\n",
      "IPU available: False, using: 0 IPUs\n",
      "HPU available: False, using: 0 HPUs\n",
      "\u001b[32m[I 2023-03-15 17:24:09,918]\u001b[0m Trial 9 pruned. Trial was pruned at epoch 1.\u001b[0m\n"
     ]
    },
    {
     "name": "stdout",
     "output_type": "stream",
     "text": [
      "{'gradient_clip_val': 0.5447266604677676, 'hidden_size': 111, 'dropout': 0.12580443905565267, 'hidden_continuous_size': 42, 'attention_head_size': 4, 'learning_rate': 0.03843727162012779}\n",
      "0.0396118126809597\n"
     ]
    }
   ],
   "source": [
    "import pickle\n",
    "\n",
    "from pytorch_forecasting.models.temporal_fusion_transformer.tuning import optimize_hyperparameters\n",
    "\n",
    "# create study\n",
    "study = optimize_hyperparameters(\n",
    "    train_dataloader,\n",
    "    val_dataloader,\n",
    "    model_path=\"optuna_test\",\n",
    "    n_trials=10,\n",
    "    max_epochs=50,\n",
    "    gradient_clip_val_range=(0.01, 1.0),\n",
    "    hidden_size_range=(8, 128),\n",
    "    hidden_continuous_size_range=(8, 128),\n",
    "    attention_head_size_range=(1, 4),\n",
    "    learning_rate_range=(0.001, 0.1),\n",
    "    dropout_range=(0.1, 0.3),\n",
    "    trainer_kwargs=dict(limit_train_batches=60),\n",
    "    reduce_on_plateau_patience=4,\n",
    "    use_learning_rate_finder=False,  # use Optuna to find ideal learning rate or use in-built learning rate finder\n",
    ")\n",
    "\n",
    "# save study results - also we can resume tuning at a later point in time\n",
    "with open(\"test_study.pkl\", \"wb\") as fout:\n",
    "    pickle.dump(study, fout)\n",
    "\n",
    "# show best hyperparameters\n",
    "print(study.best_trial.params)\n",
    "print(study.best_trial.value);"
   ]
  },
  {
   "cell_type": "markdown",
   "id": "ff19328e",
   "metadata": {},
   "source": [
    "## Save Best Results"
   ]
  },
  {
   "cell_type": "code",
   "execution_count": 14,
   "id": "dc6a4edf",
   "metadata": {},
   "outputs": [],
   "source": [
    "res = study.best_trial.params\n",
    "\n",
    "\n",
    "gradient_clip_val = res['gradient_clip_val']\n",
    "hidden_size = res['hidden_size']\n",
    "dropout = res['dropout']\n",
    "hidden_continuous_size = res['hidden_continuous_size']\n",
    "attention_head_size = res['attention_head_size']\n",
    "learning_rate = res['learning_rate']"
   ]
  },
  {
   "cell_type": "code",
   "execution_count": 16,
   "id": "71b6a487",
   "metadata": {},
   "outputs": [
    {
     "name": "stderr",
     "output_type": "stream",
     "text": [
      "GPU available: True (mps), used: False\n",
      "TPU available: False, using: 0 TPU cores\n",
      "IPU available: False, using: 0 IPUs\n",
      "HPU available: False, using: 0 HPUs\n",
      "Missing logger folder: lightning_logs/lightning_logs\n",
      "\n",
      "   | Name                               | Type                            | Params\n",
      "----------------------------------------------------------------------------------------\n",
      "0  | loss                               | QuantileLoss                    | 0     \n",
      "1  | logging_metrics                    | ModuleList                      | 0     \n",
      "2  | input_embeddings                   | MultiEmbedding                  | 73    \n",
      "3  | prescalers                         | ModuleDict                      | 1.2 K \n",
      "4  | static_variable_selection          | VariableSelectionNetwork        | 42.3 K\n",
      "5  | encoder_variable_selection         | VariableSelectionNetwork        | 159 K \n",
      "6  | decoder_variable_selection         | VariableSelectionNetwork        | 71.4 K\n",
      "7  | static_context_variable_selection  | GatedResidualNetwork            | 50.0 K\n",
      "8  | static_context_initial_hidden_lstm | GatedResidualNetwork            | 50.0 K\n",
      "9  | static_context_initial_cell_lstm   | GatedResidualNetwork            | 50.0 K\n",
      "10 | static_context_enrichment          | GatedResidualNetwork            | 50.0 K\n",
      "11 | lstm_encoder                       | LSTM                            | 99.5 K\n",
      "12 | lstm_decoder                       | LSTM                            | 99.5 K\n",
      "13 | post_lstm_gate_encoder             | GatedLinearUnit                 | 24.9 K\n",
      "14 | post_lstm_add_norm_encoder         | AddNorm                         | 222   \n",
      "15 | static_enrichment                  | GatedResidualNetwork            | 62.3 K\n",
      "16 | multihead_attn                     | InterpretableMultiHeadAttention | 30.2 K\n",
      "17 | post_attn_gate_norm                | GateAddNorm                     | 25.1 K\n",
      "18 | pos_wise_ff                        | GatedResidualNetwork            | 50.0 K\n",
      "19 | pre_output_gate_norm               | GateAddNorm                     | 25.1 K\n",
      "20 | output_layer                       | Linear                          | 784   \n",
      "----------------------------------------------------------------------------------------\n",
      "890 K     Trainable params\n",
      "0         Non-trainable params\n",
      "890 K     Total params\n",
      "3.561     Total estimated model params size (MB)\n"
     ]
    },
    {
     "data": {
      "application/vnd.jupyter.widget-view+json": {
       "model_id": "",
       "version_major": 2,
       "version_minor": 0
      },
      "text/plain": [
       "Sanity Checking: 0it [00:00, ?it/s]"
      ]
     },
     "metadata": {},
     "output_type": "display_data"
    },
    {
     "data": {
      "application/vnd.jupyter.widget-view+json": {
       "model_id": "316914972e494dc3855924dc3f1891bd",
       "version_major": 2,
       "version_minor": 0
      },
      "text/plain": [
       "Training: 0it [00:00, ?it/s]"
      ]
     },
     "metadata": {},
     "output_type": "display_data"
    },
    {
     "data": {
      "application/vnd.jupyter.widget-view+json": {
       "model_id": "",
       "version_major": 2,
       "version_minor": 0
      },
      "text/plain": [
       "Validation: 0it [00:00, ?it/s]"
      ]
     },
     "metadata": {},
     "output_type": "display_data"
    },
    {
     "data": {
      "application/vnd.jupyter.widget-view+json": {
       "model_id": "",
       "version_major": 2,
       "version_minor": 0
      },
      "text/plain": [
       "Validation: 0it [00:00, ?it/s]"
      ]
     },
     "metadata": {},
     "output_type": "display_data"
    },
    {
     "data": {
      "application/vnd.jupyter.widget-view+json": {
       "model_id": "",
       "version_major": 2,
       "version_minor": 0
      },
      "text/plain": [
       "Validation: 0it [00:00, ?it/s]"
      ]
     },
     "metadata": {},
     "output_type": "display_data"
    },
    {
     "data": {
      "application/vnd.jupyter.widget-view+json": {
       "model_id": "",
       "version_major": 2,
       "version_minor": 0
      },
      "text/plain": [
       "Validation: 0it [00:00, ?it/s]"
      ]
     },
     "metadata": {},
     "output_type": "display_data"
    },
    {
     "data": {
      "application/vnd.jupyter.widget-view+json": {
       "model_id": "",
       "version_major": 2,
       "version_minor": 0
      },
      "text/plain": [
       "Validation: 0it [00:00, ?it/s]"
      ]
     },
     "metadata": {},
     "output_type": "display_data"
    },
    {
     "data": {
      "application/vnd.jupyter.widget-view+json": {
       "model_id": "",
       "version_major": 2,
       "version_minor": 0
      },
      "text/plain": [
       "Validation: 0it [00:00, ?it/s]"
      ]
     },
     "metadata": {},
     "output_type": "display_data"
    },
    {
     "data": {
      "application/vnd.jupyter.widget-view+json": {
       "model_id": "",
       "version_major": 2,
       "version_minor": 0
      },
      "text/plain": [
       "Validation: 0it [00:00, ?it/s]"
      ]
     },
     "metadata": {},
     "output_type": "display_data"
    },
    {
     "data": {
      "application/vnd.jupyter.widget-view+json": {
       "model_id": "",
       "version_major": 2,
       "version_minor": 0
      },
      "text/plain": [
       "Validation: 0it [00:00, ?it/s]"
      ]
     },
     "metadata": {},
     "output_type": "display_data"
    },
    {
     "data": {
      "application/vnd.jupyter.widget-view+json": {
       "model_id": "",
       "version_major": 2,
       "version_minor": 0
      },
      "text/plain": [
       "Validation: 0it [00:00, ?it/s]"
      ]
     },
     "metadata": {},
     "output_type": "display_data"
    },
    {
     "data": {
      "application/vnd.jupyter.widget-view+json": {
       "model_id": "",
       "version_major": 2,
       "version_minor": 0
      },
      "text/plain": [
       "Validation: 0it [00:00, ?it/s]"
      ]
     },
     "metadata": {},
     "output_type": "display_data"
    },
    {
     "data": {
      "application/vnd.jupyter.widget-view+json": {
       "model_id": "",
       "version_major": 2,
       "version_minor": 0
      },
      "text/plain": [
       "Validation: 0it [00:00, ?it/s]"
      ]
     },
     "metadata": {},
     "output_type": "display_data"
    },
    {
     "data": {
      "application/vnd.jupyter.widget-view+json": {
       "model_id": "",
       "version_major": 2,
       "version_minor": 0
      },
      "text/plain": [
       "Validation: 0it [00:00, ?it/s]"
      ]
     },
     "metadata": {},
     "output_type": "display_data"
    },
    {
     "data": {
      "application/vnd.jupyter.widget-view+json": {
       "model_id": "",
       "version_major": 2,
       "version_minor": 0
      },
      "text/plain": [
       "Validation: 0it [00:00, ?it/s]"
      ]
     },
     "metadata": {},
     "output_type": "display_data"
    },
    {
     "data": {
      "application/vnd.jupyter.widget-view+json": {
       "model_id": "",
       "version_major": 2,
       "version_minor": 0
      },
      "text/plain": [
       "Validation: 0it [00:00, ?it/s]"
      ]
     },
     "metadata": {},
     "output_type": "display_data"
    },
    {
     "data": {
      "application/vnd.jupyter.widget-view+json": {
       "model_id": "",
       "version_major": 2,
       "version_minor": 0
      },
      "text/plain": [
       "Validation: 0it [00:00, ?it/s]"
      ]
     },
     "metadata": {},
     "output_type": "display_data"
    },
    {
     "data": {
      "application/vnd.jupyter.widget-view+json": {
       "model_id": "",
       "version_major": 2,
       "version_minor": 0
      },
      "text/plain": [
       "Validation: 0it [00:00, ?it/s]"
      ]
     },
     "metadata": {},
     "output_type": "display_data"
    },
    {
     "data": {
      "application/vnd.jupyter.widget-view+json": {
       "model_id": "",
       "version_major": 2,
       "version_minor": 0
      },
      "text/plain": [
       "Validation: 0it [00:00, ?it/s]"
      ]
     },
     "metadata": {},
     "output_type": "display_data"
    },
    {
     "data": {
      "application/vnd.jupyter.widget-view+json": {
       "model_id": "",
       "version_major": 2,
       "version_minor": 0
      },
      "text/plain": [
       "Validation: 0it [00:00, ?it/s]"
      ]
     },
     "metadata": {},
     "output_type": "display_data"
    },
    {
     "data": {
      "application/vnd.jupyter.widget-view+json": {
       "model_id": "",
       "version_major": 2,
       "version_minor": 0
      },
      "text/plain": [
       "Validation: 0it [00:00, ?it/s]"
      ]
     },
     "metadata": {},
     "output_type": "display_data"
    },
    {
     "data": {
      "application/vnd.jupyter.widget-view+json": {
       "model_id": "",
       "version_major": 2,
       "version_minor": 0
      },
      "text/plain": [
       "Validation: 0it [00:00, ?it/s]"
      ]
     },
     "metadata": {},
     "output_type": "display_data"
    },
    {
     "data": {
      "application/vnd.jupyter.widget-view+json": {
       "model_id": "",
       "version_major": 2,
       "version_minor": 0
      },
      "text/plain": [
       "Validation: 0it [00:00, ?it/s]"
      ]
     },
     "metadata": {},
     "output_type": "display_data"
    },
    {
     "data": {
      "application/vnd.jupyter.widget-view+json": {
       "model_id": "",
       "version_major": 2,
       "version_minor": 0
      },
      "text/plain": [
       "Validation: 0it [00:00, ?it/s]"
      ]
     },
     "metadata": {},
     "output_type": "display_data"
    },
    {
     "data": {
      "application/vnd.jupyter.widget-view+json": {
       "model_id": "",
       "version_major": 2,
       "version_minor": 0
      },
      "text/plain": [
       "Validation: 0it [00:00, ?it/s]"
      ]
     },
     "metadata": {},
     "output_type": "display_data"
    },
    {
     "data": {
      "application/vnd.jupyter.widget-view+json": {
       "model_id": "",
       "version_major": 2,
       "version_minor": 0
      },
      "text/plain": [
       "Validation: 0it [00:00, ?it/s]"
      ]
     },
     "metadata": {},
     "output_type": "display_data"
    },
    {
     "data": {
      "application/vnd.jupyter.widget-view+json": {
       "model_id": "",
       "version_major": 2,
       "version_minor": 0
      },
      "text/plain": [
       "Validation: 0it [00:00, ?it/s]"
      ]
     },
     "metadata": {},
     "output_type": "display_data"
    },
    {
     "data": {
      "application/vnd.jupyter.widget-view+json": {
       "model_id": "",
       "version_major": 2,
       "version_minor": 0
      },
      "text/plain": [
       "Validation: 0it [00:00, ?it/s]"
      ]
     },
     "metadata": {},
     "output_type": "display_data"
    },
    {
     "data": {
      "application/vnd.jupyter.widget-view+json": {
       "model_id": "",
       "version_major": 2,
       "version_minor": 0
      },
      "text/plain": [
       "Validation: 0it [00:00, ?it/s]"
      ]
     },
     "metadata": {},
     "output_type": "display_data"
    },
    {
     "data": {
      "application/vnd.jupyter.widget-view+json": {
       "model_id": "",
       "version_major": 2,
       "version_minor": 0
      },
      "text/plain": [
       "Validation: 0it [00:00, ?it/s]"
      ]
     },
     "metadata": {},
     "output_type": "display_data"
    },
    {
     "data": {
      "application/vnd.jupyter.widget-view+json": {
       "model_id": "",
       "version_major": 2,
       "version_minor": 0
      },
      "text/plain": [
       "Validation: 0it [00:00, ?it/s]"
      ]
     },
     "metadata": {},
     "output_type": "display_data"
    },
    {
     "data": {
      "application/vnd.jupyter.widget-view+json": {
       "model_id": "",
       "version_major": 2,
       "version_minor": 0
      },
      "text/plain": [
       "Validation: 0it [00:00, ?it/s]"
      ]
     },
     "metadata": {},
     "output_type": "display_data"
    },
    {
     "data": {
      "application/vnd.jupyter.widget-view+json": {
       "model_id": "",
       "version_major": 2,
       "version_minor": 0
      },
      "text/plain": [
       "Validation: 0it [00:00, ?it/s]"
      ]
     },
     "metadata": {},
     "output_type": "display_data"
    },
    {
     "data": {
      "application/vnd.jupyter.widget-view+json": {
       "model_id": "",
       "version_major": 2,
       "version_minor": 0
      },
      "text/plain": [
       "Validation: 0it [00:00, ?it/s]"
      ]
     },
     "metadata": {},
     "output_type": "display_data"
    },
    {
     "data": {
      "application/vnd.jupyter.widget-view+json": {
       "model_id": "",
       "version_major": 2,
       "version_minor": 0
      },
      "text/plain": [
       "Validation: 0it [00:00, ?it/s]"
      ]
     },
     "metadata": {},
     "output_type": "display_data"
    }
   ],
   "source": [
    "early_stop_callback = EarlyStopping(monitor=\"val_loss\", min_delta=1e-4, patience=10, verbose=False, mode=\"min\")\n",
    "lr_logger = LearningRateMonitor()  \n",
    "logger = TensorBoardLogger(\"lightning_logs\") \n",
    "\n",
    "# Configure Trainer\n",
    "trainer = pl.Trainer(\n",
    "    max_epochs=400,\n",
    "    gpus=0,\n",
    "    enable_model_summary=True,\n",
    "    gradient_clip_val=gradient_clip_val,\n",
    "    limit_train_batches=30,  \n",
    "    callbacks=[lr_logger, early_stop_callback],\n",
    "    logger=logger,\n",
    ")\n",
    "\n",
    "# Initialize the temporal fusion transformer\n",
    "tft = TemporalFusionTransformer.from_dataset(\n",
    "    training,\n",
    "    learning_rate=learning_rate,\n",
    "    hidden_size=hidden_size,\n",
    "    attention_head_size=attention_head_size,\n",
    "    dropout=dropout,\n",
    "    hidden_continuous_size=hidden_continuous_size,\n",
    "    output_size=7,  # 7 quantiles by default\n",
    "    loss=QuantileLoss(),\n",
    "    log_interval=10,  \n",
    "    reduce_on_plateau_patience=4,\n",
    ")\n",
    "\n",
    "# Fit the model on the data\n",
    "trainer.fit(\n",
    "    tft,\n",
    "    train_dataloaders=train_dataloader,\n",
    "    val_dataloaders=val_dataloader,\n",
    ")\n",
    "\n",
    "# Save the temporal fusion transformer and make predictions\n",
    "best_tft = tft\n",
    "raw_predictions, x = best_tft.predict(val_dataloader, mode=\"raw\", return_x=True)"
   ]
  },
  {
   "cell_type": "markdown",
   "id": "9c0c28cb",
   "metadata": {},
   "source": [
    "## Plotter for In-Sample Validation"
   ]
  },
  {
   "cell_type": "code",
   "execution_count": 18,
   "id": "07ef7969",
   "metadata": {},
   "outputs": [],
   "source": [
    "data_plotter = data.copy()\n",
    "data_plotter[\"timeidx_mov\"] = data_plotter[\"timeidx\"] - (len(data_plotter) - max_prediction_length)\n",
    "price_val = list(data_plotter['price'].tail(max_prediction_length))\n",
    "    \n",
    "y_pred = best_tft.to_quantiles(raw_predictions)\n",
    "target =  torch.FloatTensor(price_val)"
   ]
  },
  {
   "cell_type": "code",
   "execution_count": 22,
   "id": "39186749",
   "metadata": {
    "scrolled": true
   },
   "outputs": [
    {
     "name": "stdout",
     "output_type": "stream",
     "text": [
      "Quantile Loss =  0.030\n"
     ]
    },
    {
     "data": {
      "image/png": "[encoded data removed]",
      "text/plain": [
       "<Figure size 2000x500 with 1 Axes>"
      ]
     },
     "metadata": {},
     "output_type": "display_data"
    }
   ],
   "source": [
    "def forecaster_plotter(raw_dat, raw_predictions, data):\n",
    "    q02, q10, q25, q5, q75, q90, q98 = [], [], [], [], [], [], []\n",
    "    \n",
    "    for i in range(len(raw_predictions[0])):\n",
    "        q02.append(sorted(raw_predictions[0][i])[0].item())\n",
    "        q10.append(sorted(raw_predictions[0][i])[1].item())\n",
    "        q25.append(sorted(raw_predictions[0][i])[2].item())\n",
    "        q5.append(sorted(raw_predictions[0][i])[3].item())\n",
    "        q75.append(sorted(raw_predictions[0][i])[4].item())\n",
    "        q90.append(sorted(raw_predictions[0][i])[5].item())\n",
    "        q98.append(sorted(raw_predictions[0][i])[6].item())\n",
    "                \n",
    "    data_plotter = data.copy()\n",
    "    data_plotter[\"timeidx_mov\"] = data_plotter[\"timeidx\"] - (len(data_plotter) - max_prediction_length)\n",
    "    \n",
    "    price_val = list(data_plotter['price'].tail(max_prediction_length))\n",
    "    \n",
    "    MAPE_price = mean_absolute_percentage_error(q5, price_val)\n",
    "    y_pred = best_tft.to_quantiles(raw_dat)\n",
    "    target =  torch.FloatTensor(price_val)\n",
    "    \n",
    "    print('Quantile Loss = ', \"{:.3f}\".format(torch.mean(QuantileLoss().loss(y_pred, target))))\n",
    "\n",
    "    index_list = list(reduced_data_set.index.values)\n",
    "    used_list = index_list[-max_prediction_length:]\n",
    "    \n",
    "    ax = data_plotter[(data_plotter.index > date_filter)][[\"price\"]].plot()\n",
    "    plt.fill_between(used_list, q02, q98, alpha = 0.1, color = 'tab:orange')\n",
    "    plt.fill_between(used_list, q10, q90, alpha = 0.2, color = 'tab:orange')\n",
    "    plt.fill_between(used_list, q25, q75, alpha = 0.2, color = 'tab:orange')\n",
    "\n",
    "    plt.plot(used_list, q5, color = 'tab:orange', label = 'Median')\n",
    "    plt.axvline(datetime.datetime(2022, 2, 20), color = 'red', linestyle = '--', label = 'Invasion Russia')\n",
    "\n",
    "    plt.xlabel('Time')\n",
    "    plt.ylabel('Price')\n",
    "    plt.legend()\n",
    "\n",
    "forecaster_plotter(raw_predictions, raw_predictions['prediction'], data)   "
   ]
  },
  {
   "cell_type": "markdown",
   "id": "9dbedd07",
   "metadata": {},
   "source": [
    "## Variables Importance and Attention"
   ]
  },
  {
   "cell_type": "markdown",
   "id": "4eb599da",
   "metadata": {},
   "source": [
    "Below an eaxample of how one can extract the variable importance and attention scores"
   ]
  },
  {
   "cell_type": "code",
   "execution_count": 31,
   "id": "e7ab06ea",
   "metadata": {},
   "outputs": [
    {
     "data": {
      "image/png": "[encoded data removed]",
      "text/plain": [
       "<Figure size 1000x500 with 1 Axes>"
      ]
     },
     "metadata": {},
     "output_type": "display_data"
    },
    {
     "data": {
      "image/png": "[encoded data removed]",
      "text/plain": [
       "<Figure size 700x300 with 1 Axes>"
      ]
     },
     "metadata": {},
     "output_type": "display_data"
    },
    {
     "data": {
      "image/png": "[encoded data removed]",
      "text/plain": [
       "<Figure size 700x500 with 1 Axes>"
      ]
     },
     "metadata": {},
     "output_type": "display_data"
    },
    {
     "data": {
      "image/png": "[encoded data removed]",
      "text/plain": [
       "<Figure size 700x350 with 1 Axes>"
      ]
     },
     "metadata": {},
     "output_type": "display_data"
    }
   ],
   "source": [
    "interpretation = best_tft.interpret_output(raw_predictions, reduction=\"sum\")\n",
    "best_tft.plot_interpretation(interpretation);"
   ]
  },
  {
   "cell_type": "code",
   "execution_count": null,
   "id": "56852230",
   "metadata": {},
   "outputs": [],
   "source": []
  }
 ],
 "metadata": {
  "kernelspec": {
   "display_name": "Python 3 (ipykernel)",
   "language": "python",
   "name": "python3"
  },
  "language_info": {
   "codemirror_mode": {
    "name": "ipython",
    "version": 3
   },
   "file_extension": ".py",
   "mimetype": "text/x-python",
   "name": "python",
   "nbconvert_exporter": "python",
   "pygments_lexer": "ipython3",
   "version": "3.9.13"
  }
 },
 "nbformat": 4,
 "nbformat_minor": 5
}
