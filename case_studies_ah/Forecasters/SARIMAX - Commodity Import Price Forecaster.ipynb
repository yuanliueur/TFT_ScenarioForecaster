{
 "cells": [
  {
   "cell_type": "markdown",
   "id": "c3779a9f",
   "metadata": {},
   "source": [
    "# SARIMAX Forecaster\n",
    "\n",
    "This notebook provides the benchmark model (SARIMAX) for conditional forecasting of average import prices"
   ]
  },
  {
   "cell_type": "markdown",
   "id": "e3067d8d",
   "metadata": {},
   "source": [
    "Set Directory to main directory"
   ]
  },
  {
   "cell_type": "code",
   "execution_count": 1,
   "id": "cfd7c868",
   "metadata": {
    "scrolled": true
   },
   "outputs": [],
   "source": [
    "import os\n",
    "import warnings\n",
    "\n",
    "warnings.filterwarnings(\"ignore\")  # avoid printing out absolute paths\n",
    "os.chdir(\"/Users/yuanliu/Documents/Erasmus University/MSc Quantitive Marketing and Business Analytics/P3/Seminar Case Study/Data/case_studies_ah/\")"
   ]
  },
  {
   "cell_type": "markdown",
   "id": "20c3e8af",
   "metadata": {},
   "source": [
    "## Install Required Packages"
   ]
  },
  {
   "cell_type": "code",
   "execution_count": 2,
   "id": "e57f954f",
   "metadata": {
    "scrolled": true
   },
   "outputs": [
    {
     "name": "stdout",
     "output_type": "stream",
     "text": [
      "\n",
      "\u001b[1m[\u001b[0m\u001b[34;49mnotice\u001b[0m\u001b[1;39;49m]\u001b[0m\u001b[39;49m A new release of pip available: \u001b[0m\u001b[31;49m22.3.1\u001b[0m\u001b[39;49m -> \u001b[0m\u001b[32;49m23.0.1\u001b[0m\n",
      "\u001b[1m[\u001b[0m\u001b[34;49mnotice\u001b[0m\u001b[1;39;49m]\u001b[0m\u001b[39;49m To update, run: \u001b[0m\u001b[32;49m/Users/yuanliu/opt/anaconda3/bin/python -m pip install --upgrade pip\u001b[0m\n",
      "Note: you may need to restart the kernel to use updated packages.\n"
     ]
    }
   ],
   "source": [
    "pip install pmdarima --quiet"
   ]
  },
  {
   "cell_type": "code",
   "execution_count": 3,
   "id": "4fdd75cd",
   "metadata": {
    "scrolled": true
   },
   "outputs": [],
   "source": [
    "from datetime import datetime\n",
    "import datetime\n",
    "import datetime as dt\n",
    "import numpy as np\n",
    "import pandas as pd\n",
    "import matplotlib.pylab as plt\n",
    "%matplotlib inline\n",
    "from matplotlib.pylab import rcParams\n",
    "\n",
    "from statsmodels.tsa.stattools import adfuller\n",
    "import pmdarima as pm\n",
    "\n",
    "from pytorch_forecasting.metrics import SMAPE, PoissonLoss, QuantileLoss\n",
    "import torch"
   ]
  },
  {
   "cell_type": "code",
   "execution_count": 4,
   "id": "bc120a53",
   "metadata": {
    "scrolled": true
   },
   "outputs": [],
   "source": [
    "plt.style.use('ggplot')\n",
    "\n",
    "colors = plt.cm.Spectral(np.linspace(0,1,30))\n",
    "plt.rcParams[\"figure.figsize\"] = (20,5)"
   ]
  },
  {
   "cell_type": "markdown",
   "id": "aa199247",
   "metadata": {},
   "source": [
    "## Set-Up Model\n",
    "\n",
    "Select product type from SUNFLOWER OIL, MAIZE or WHEAT"
   ]
  },
  {
   "cell_type": "code",
   "execution_count": 5,
   "id": "fd616516",
   "metadata": {
    "scrolled": true
   },
   "outputs": [],
   "source": [
    "product_type = \"SUNFLOWER OIL\"\n",
    "\n",
    "date_filter = datetime.date(year=2018, month=1, day=1)\n",
    "date_end = datetime.date(year = 2022, month = 10, day = 1)"
   ]
  },
  {
   "cell_type": "markdown",
   "id": "b3fe4bcf",
   "metadata": {},
   "source": [
    "Organize data in to workable format"
   ]
  },
  {
   "cell_type": "code",
   "execution_count": 6,
   "id": "e83eff9b",
   "metadata": {
    "scrolled": true
   },
   "outputs": [],
   "source": [
    "if product_type == \"WHEAT\":\n",
    "    trade_data = pd.read_csv(\"Data/wheat.csv\")\n",
    "    \n",
    "if product_type == \"MAIZE\":\n",
    "    trade_data = pd.read_csv(\"Data/maize_corn.csv\")\n",
    "    \n",
    "if product_type == \"SUNFLOWER OIL\":\n",
    "    trade_data = pd.read_csv(\"Data/sunflower_oil.csv\")\n",
    "    \n",
    "trade_data[\"TIME_PERIOD\"] = pd.to_datetime(trade_data[\"TIME_PERIOD\"], format = '%Y-%m').dt.date\n",
    "trade_data = trade_data.rename(columns={\"partner\": \"PARTNER_codes\", \"declarant\": \"DECLARANT_codes\"})\n",
    "\n",
    "products = trade_data[\"product\"].drop_duplicates().to_list()\n",
    "\n",
    "if product_type == 'SUNFLOWER OIL' or product_type == 'MAIZE':\n",
    "    product_filter = products[0]\n",
    "\n",
    "if product_type == 'WHEAT':\n",
    "    product_filter = products[1]\n",
    "    \n",
    "partner_countries = pd.read_csv(\"Data/partners.csv\", sep = \";\")\n",
    "trade_data = pd.merge(trade_data, partner_countries, on = ['PARTNER_codes'], how = 'inner')\n",
    "\n",
    "trade_data_pivot = trade_data.pivot(index=['PARTNER_Labels', 'TIME_PERIOD', 'product'], \n",
    "                              columns='indicators', \n",
    "                              values=['OBS_VALUE'])\n",
    "\n",
    "trade_data_pivot.columns = trade_data_pivot.columns.map('_'.join)\n",
    "trade_data_pivot = trade_data_pivot.reset_index()\n",
    "trade_data_pivot = trade_data_pivot.dropna()\n",
    "\n",
    "\n",
    "trade_data_total = trade_data_pivot\\\n",
    ".groupby(['product', 'TIME_PERIOD']).agg({'OBS_VALUE_QUANTITY_TON': 'sum', \n",
    "                                          'OBS_VALUE_VALUE_1000EURO': 'sum'})\n",
    "\n",
    "trade_data_total = trade_data_total.reset_index()\n",
    "trade_data_total['price'] = trade_data_total['OBS_VALUE_VALUE_1000EURO']/trade_data_total['OBS_VALUE_QUANTITY_TON']\n",
    "trade_data_total = trade_data_total[(trade_data_total[\"product\"] == product_filter)]\n",
    "\n",
    "# Isolate Ukraine - Netherlands Import data for later use\n",
    "Ukr_Data = trade_data_pivot[(trade_data_pivot['PARTNER_Labels']=='Ukraine') & (trade_data_pivot[\"product\"] == product_filter) & (trade_data_pivot[\"TIME_PERIOD\"] >= date_filter)][['TIME_PERIOD','OBS_VALUE_QUANTITY_TON']]\n",
    "Ukr_Data = Ukr_Data.set_index(\"TIME_PERIOD\")\n",
    "Ukr_Data = Ukr_Data.rename(columns = {\"OBS_VALUE_QUANTITY_TON\" : \"UKR_QUANTITY\"})\n",
    "trade_data_total['UKR_QUANTITY'] = Ukr_Data['UKR_QUANTITY']\n",
    "trade_data_total = trade_data_total.fillna(0)\n",
    "\n",
    "trade_data_total = trade_data_total.set_index(\"TIME_PERIOD\")\n",
    "trade_data_total = trade_data_total[(trade_data_total.index >= date_filter)]"
   ]
  },
  {
   "cell_type": "markdown",
   "id": "8af14218",
   "metadata": {},
   "source": [
    "Add extra CMO data to dataframe"
   ]
  },
  {
   "cell_type": "code",
   "execution_count": 7,
   "id": "b60a7788",
   "metadata": {
    "scrolled": true
   },
   "outputs": [],
   "source": [
    "# Import other commodities and use same procedure\n",
    "oil_data = pd.read_csv(\"Data/CMO-Historical-Data-Monthly.csv\", header = 6)\n",
    "oil_data = oil_data.rename(columns = {\"Unnamed: 0\" : \"TIME_PERIOD\"})\n",
    "oil_data['TIME_PERIOD'] = oil_data['TIME_PERIOD'].str.replace(r'M', '-')\n",
    "oil_data[\"TIME_PERIOD\"] = pd.to_datetime(oil_data[\"TIME_PERIOD\"], format = '%Y-%m').dt.date\n",
    "to_replace = oil_data[\"SUNFLOWER_OIL\"].iloc[0]\n",
    "oil_data = oil_data.replace(to_replace, 0)\n",
    "oil_data = oil_data.drop_duplicates()\n",
    "oil_data = oil_data.set_index(\"TIME_PERIOD\")\n",
    "oil_data = oil_data[(oil_data.index >= date_filter) & (oil_data.index <= date_end)]\n",
    "\n",
    "trade_data_total = trade_data_total.reset_index()\n",
    "oil_data = oil_data.reset_index()\n",
    "\n",
    "data = trade_data_total.merge(oil_data, on = 'TIME_PERIOD')\n",
    "data = data[data.columns.drop(list(data.filter(regex='Unnamed')))]\n",
    "data = data.set_index(\"TIME_PERIOD\")"
   ]
  },
  {
   "cell_type": "code",
   "execution_count": 8,
   "id": "004b2f38",
   "metadata": {
    "scrolled": true
   },
   "outputs": [
    {
     "data": {
      "text/html": [
       "<div>\n",
       "<style scoped>\n",
       "    .dataframe tbody tr th:only-of-type {\n",
       "        vertical-align: middle;\n",
       "    }\n",
       "\n",
       "    .dataframe tbody tr th {\n",
       "        vertical-align: top;\n",
       "    }\n",
       "\n",
       "    .dataframe thead th {\n",
       "        text-align: right;\n",
       "    }\n",
       "</style>\n",
       "<table border=\"1\" class=\"dataframe\">\n",
       "  <thead>\n",
       "    <tr style=\"text-align: right;\">\n",
       "      <th></th>\n",
       "      <th>product</th>\n",
       "      <th>OBS_VALUE_QUANTITY_TON</th>\n",
       "      <th>OBS_VALUE_VALUE_1000EURO</th>\n",
       "      <th>price</th>\n",
       "      <th>UKR_QUANTITY</th>\n",
       "      <th>CRUDE_PETRO</th>\n",
       "      <th>CRUDE_BRENT</th>\n",
       "      <th>CRUDE_DUBAI</th>\n",
       "      <th>CRUDE_WTI</th>\n",
       "      <th>COAL_AUS</th>\n",
       "      <th>...</th>\n",
       "      <th>ALUMINUM</th>\n",
       "      <th>IRON_ORE</th>\n",
       "      <th>COPPER</th>\n",
       "      <th>LEAD</th>\n",
       "      <th>Tin</th>\n",
       "      <th>NICKEL</th>\n",
       "      <th>Zinc</th>\n",
       "      <th>GOLD</th>\n",
       "      <th>PLATINUM</th>\n",
       "      <th>SILVER</th>\n",
       "    </tr>\n",
       "    <tr>\n",
       "      <th>TIME_PERIOD</th>\n",
       "      <th></th>\n",
       "      <th></th>\n",
       "      <th></th>\n",
       "      <th></th>\n",
       "      <th></th>\n",
       "      <th></th>\n",
       "      <th></th>\n",
       "      <th></th>\n",
       "      <th></th>\n",
       "      <th></th>\n",
       "      <th></th>\n",
       "      <th></th>\n",
       "      <th></th>\n",
       "      <th></th>\n",
       "      <th></th>\n",
       "      <th></th>\n",
       "      <th></th>\n",
       "      <th></th>\n",
       "      <th></th>\n",
       "      <th></th>\n",
       "      <th></th>\n",
       "    </tr>\n",
       "  </thead>\n",
       "  <tbody>\n",
       "    <tr>\n",
       "      <th>2018-01-01</th>\n",
       "      <td>15121191</td>\n",
       "      <td>4398.3</td>\n",
       "      <td>3521.36</td>\n",
       "      <td>0.800618</td>\n",
       "      <td>0.0</td>\n",
       "      <td>66.23</td>\n",
       "      <td>68.99</td>\n",
       "      <td>66.02</td>\n",
       "      <td>63.67</td>\n",
       "      <td>106.45</td>\n",
       "      <td>...</td>\n",
       "      <td>2209.73</td>\n",
       "      <td>76.34</td>\n",
       "      <td>7065.85</td>\n",
       "      <td>2584.09</td>\n",
       "      <td>20696.91</td>\n",
       "      <td>12864.88</td>\n",
       "      <td>3441.52</td>\n",
       "      <td>1331.30</td>\n",
       "      <td>990.12</td>\n",
       "      <td>17.13</td>\n",
       "    </tr>\n",
       "    <tr>\n",
       "      <th>2018-02-01</th>\n",
       "      <td>15121191</td>\n",
       "      <td>3616.5</td>\n",
       "      <td>3120.24</td>\n",
       "      <td>0.862779</td>\n",
       "      <td>0.0</td>\n",
       "      <td>63.46</td>\n",
       "      <td>65.42</td>\n",
       "      <td>62.79</td>\n",
       "      <td>62.17</td>\n",
       "      <td>105.95</td>\n",
       "      <td>...</td>\n",
       "      <td>2181.79</td>\n",
       "      <td>77.46</td>\n",
       "      <td>7006.52</td>\n",
       "      <td>2581.06</td>\n",
       "      <td>21651.55</td>\n",
       "      <td>13595.88</td>\n",
       "      <td>3532.90</td>\n",
       "      <td>1330.73</td>\n",
       "      <td>987.26</td>\n",
       "      <td>16.58</td>\n",
       "    </tr>\n",
       "    <tr>\n",
       "      <th>2018-03-01</th>\n",
       "      <td>15121191</td>\n",
       "      <td>37378.6</td>\n",
       "      <td>24630.16</td>\n",
       "      <td>0.658937</td>\n",
       "      <td>0.0</td>\n",
       "      <td>64.17</td>\n",
       "      <td>66.45</td>\n",
       "      <td>63.29</td>\n",
       "      <td>62.76</td>\n",
       "      <td>96.66</td>\n",
       "      <td>...</td>\n",
       "      <td>2069.24</td>\n",
       "      <td>70.35</td>\n",
       "      <td>6799.18</td>\n",
       "      <td>2390.00</td>\n",
       "      <td>21211.94</td>\n",
       "      <td>13392.50</td>\n",
       "      <td>3269.18</td>\n",
       "      <td>1324.66</td>\n",
       "      <td>954.57</td>\n",
       "      <td>16.47</td>\n",
       "    </tr>\n",
       "    <tr>\n",
       "      <th>2018-04-01</th>\n",
       "      <td>15121191</td>\n",
       "      <td>8130.4</td>\n",
       "      <td>6134.90</td>\n",
       "      <td>0.754563</td>\n",
       "      <td>0.0</td>\n",
       "      <td>68.79</td>\n",
       "      <td>71.63</td>\n",
       "      <td>68.43</td>\n",
       "      <td>66.32</td>\n",
       "      <td>93.69</td>\n",
       "      <td>...</td>\n",
       "      <td>2254.69</td>\n",
       "      <td>65.75</td>\n",
       "      <td>6851.51</td>\n",
       "      <td>2352.41</td>\n",
       "      <td>21291.10</td>\n",
       "      <td>13938.10</td>\n",
       "      <td>3188.05</td>\n",
       "      <td>1334.76</td>\n",
       "      <td>924.05</td>\n",
       "      <td>16.65</td>\n",
       "    </tr>\n",
       "    <tr>\n",
       "      <th>2018-05-01</th>\n",
       "      <td>15121191</td>\n",
       "      <td>38741.8</td>\n",
       "      <td>25706.26</td>\n",
       "      <td>0.663528</td>\n",
       "      <td>0.0</td>\n",
       "      <td>73.43</td>\n",
       "      <td>76.65</td>\n",
       "      <td>73.66</td>\n",
       "      <td>69.98</td>\n",
       "      <td>105.29</td>\n",
       "      <td>...</td>\n",
       "      <td>2299.67</td>\n",
       "      <td>66.10</td>\n",
       "      <td>6825.27</td>\n",
       "      <td>2360.93</td>\n",
       "      <td>20858.83</td>\n",
       "      <td>14366.49</td>\n",
       "      <td>3059.87</td>\n",
       "      <td>1303.45</td>\n",
       "      <td>904.73</td>\n",
       "      <td>16.49</td>\n",
       "    </tr>\n",
       "  </tbody>\n",
       "</table>\n",
       "<p>5 rows × 76 columns</p>\n",
       "</div>"
      ],
      "text/plain": [
       "              product  OBS_VALUE_QUANTITY_TON  OBS_VALUE_VALUE_1000EURO  \\\n",
       "TIME_PERIOD                                                               \n",
       "2018-01-01   15121191                  4398.3                   3521.36   \n",
       "2018-02-01   15121191                  3616.5                   3120.24   \n",
       "2018-03-01   15121191                 37378.6                  24630.16   \n",
       "2018-04-01   15121191                  8130.4                   6134.90   \n",
       "2018-05-01   15121191                 38741.8                  25706.26   \n",
       "\n",
       "                price  UKR_QUANTITY  CRUDE_PETRO  CRUDE_BRENT  CRUDE_DUBAI  \\\n",
       "TIME_PERIOD                                                                  \n",
       "2018-01-01   0.800618           0.0        66.23        68.99        66.02   \n",
       "2018-02-01   0.862779           0.0        63.46        65.42        62.79   \n",
       "2018-03-01   0.658937           0.0        64.17        66.45        63.29   \n",
       "2018-04-01   0.754563           0.0        68.79        71.63        68.43   \n",
       "2018-05-01   0.663528           0.0        73.43        76.65        73.66   \n",
       "\n",
       "            CRUDE_WTI COAL_AUS  ... ALUMINUM  IRON_ORE   COPPER     LEAD  \\\n",
       "TIME_PERIOD                     ...                                        \n",
       "2018-01-01      63.67   106.45  ...  2209.73     76.34  7065.85  2584.09   \n",
       "2018-02-01      62.17   105.95  ...  2181.79     77.46  7006.52  2581.06   \n",
       "2018-03-01      62.76    96.66  ...  2069.24     70.35  6799.18  2390.00   \n",
       "2018-04-01      66.32    93.69  ...  2254.69     65.75  6851.51  2352.41   \n",
       "2018-05-01      69.98   105.29  ...  2299.67     66.10  6825.27  2360.93   \n",
       "\n",
       "                  Tin    NICKEL     Zinc     GOLD  PLATINUM  SILVER  \n",
       "TIME_PERIOD                                                          \n",
       "2018-01-01   20696.91  12864.88  3441.52  1331.30    990.12   17.13  \n",
       "2018-02-01   21651.55  13595.88  3532.90  1330.73    987.26   16.58  \n",
       "2018-03-01   21211.94  13392.50  3269.18  1324.66    954.57   16.47  \n",
       "2018-04-01   21291.10  13938.10  3188.05  1334.76    924.05   16.65  \n",
       "2018-05-01   20858.83  14366.49  3059.87  1303.45    904.73   16.49  \n",
       "\n",
       "[5 rows x 76 columns]"
      ]
     },
     "execution_count": 8,
     "metadata": {},
     "output_type": "execute_result"
    }
   ],
   "source": [
    "data.head()"
   ]
  },
  {
   "cell_type": "code",
   "execution_count": 9,
   "id": "a3389b10",
   "metadata": {
    "scrolled": true
   },
   "outputs": [],
   "source": [
    "#Determine rolling statistics\n",
    "data[\"rolling_avg\"] = data[\"price\"].rolling(window=3).mean() #window size 12 denotes 12 months, giving rolling mean at yearly level\n",
    "data[\"rolling_std\"] = data[\"price\"].rolling(window=3).std()"
   ]
  },
  {
   "cell_type": "markdown",
   "id": "c31da099",
   "metadata": {},
   "source": [
    "## Forecaster Tool SARIMA"
   ]
  },
  {
   "cell_type": "markdown",
   "id": "9c791f89",
   "metadata": {},
   "source": [
    "Provide the length of the validation window, consisting of the number of final months of the dataset you want to forecast. The dataset is hereafter divided into training and test set."
   ]
  },
  {
   "cell_type": "code",
   "execution_count": 10,
   "id": "ede793b9",
   "metadata": {
    "scrolled": true
   },
   "outputs": [],
   "source": [
    "months_to_forecast = 2\n",
    "\n",
    "test_training_split = datetime.date(year = 2022, month = 10 - months_to_forecast, day = 1)\n",
    "\n",
    "training_data = data[(data.index <= test_training_split)]\n",
    "test_data = data[(data.index > test_training_split)]"
   ]
  },
  {
   "cell_type": "markdown",
   "id": "a76b3b3a",
   "metadata": {},
   "source": [
    "Train the model along with the exogenous main price drivers"
   ]
  },
  {
   "cell_type": "code",
   "execution_count": 11,
   "id": "2a5cc795",
   "metadata": {
    "scrolled": true
   },
   "outputs": [],
   "source": [
    "# SARIMAX Model\n",
    "SARIMAX_model = pm.auto_arima(training_data['price'], exogenous=training_data[['NGAS_EUR', 'CRUDE_PETRO', 'UKR_QUANTITY']],\n",
    "                           start_p=1, start_q=1,\n",
    "                           test='adf',\n",
    "                           max_p=3, max_q=3, m=12,\n",
    "                           start_P=0, seasonal=True,\n",
    "                           d=None, D=1, \n",
    "                           trace=False,\n",
    "                           error_action='ignore',  \n",
    "                           suppress_warnings=True, \n",
    "                           stepwise=True\n",
    "                             )"
   ]
  },
  {
   "cell_type": "code",
   "execution_count": 12,
   "id": "7b4bfd7e",
   "metadata": {
    "scrolled": true
   },
   "outputs": [
    {
     "data": {
      "text/html": [
       "<table class=\"simpletable\">\n",
       "<caption>SARIMAX Results</caption>\n",
       "<tr>\n",
       "  <th>Dep. Variable:</th>                  <td>y</td>               <th>  No. Observations:  </th>   <td>56</td>   \n",
       "</tr>\n",
       "<tr>\n",
       "  <th>Model:</th>           <td>SARIMAX(2, 2, 0)x(1, 1, 0, 12)</td> <th>  Log Likelihood     </th> <td>15.053</td> \n",
       "</tr>\n",
       "<tr>\n",
       "  <th>Date:</th>                   <td>Wed, 15 Mar 2023</td>        <th>  AIC                </th> <td>-22.106</td>\n",
       "</tr>\n",
       "<tr>\n",
       "  <th>Time:</th>                       <td>17:04:00</td>            <th>  BIC                </th> <td>-15.155</td>\n",
       "</tr>\n",
       "<tr>\n",
       "  <th>Sample:</th>                    <td>01-01-2018</td>           <th>  HQIC               </th> <td>-19.558</td>\n",
       "</tr>\n",
       "<tr>\n",
       "  <th></th>                          <td>- 08-01-2022</td>          <th>                     </th>    <td> </td>   \n",
       "</tr>\n",
       "<tr>\n",
       "  <th>Covariance Type:</th>               <td>opg</td>              <th>                     </th>    <td> </td>   \n",
       "</tr>\n",
       "</table>\n",
       "<table class=\"simpletable\">\n",
       "<tr>\n",
       "      <td></td>        <th>coef</th>     <th>std err</th>      <th>z</th>      <th>P>|z|</th>  <th>[0.025</th>    <th>0.975]</th>  \n",
       "</tr>\n",
       "<tr>\n",
       "  <th>ar.L1</th>    <td>   -1.0983</td> <td>    0.135</td> <td>   -8.161</td> <td> 0.000</td> <td>   -1.362</td> <td>   -0.835</td>\n",
       "</tr>\n",
       "<tr>\n",
       "  <th>ar.L2</th>    <td>   -0.5812</td> <td>    0.131</td> <td>   -4.452</td> <td> 0.000</td> <td>   -0.837</td> <td>   -0.325</td>\n",
       "</tr>\n",
       "<tr>\n",
       "  <th>ar.S.L12</th> <td>   -0.2710</td> <td>    0.182</td> <td>   -1.493</td> <td> 0.136</td> <td>   -0.627</td> <td>    0.085</td>\n",
       "</tr>\n",
       "<tr>\n",
       "  <th>sigma2</th>   <td>    0.0270</td> <td>    0.007</td> <td>    3.971</td> <td> 0.000</td> <td>    0.014</td> <td>    0.040</td>\n",
       "</tr>\n",
       "</table>\n",
       "<table class=\"simpletable\">\n",
       "<tr>\n",
       "  <th>Ljung-Box (L1) (Q):</th>     <td>0.55</td> <th>  Jarque-Bera (JB):  </th> <td>0.55</td> \n",
       "</tr>\n",
       "<tr>\n",
       "  <th>Prob(Q):</th>                <td>0.46</td> <th>  Prob(JB):          </th> <td>0.76</td> \n",
       "</tr>\n",
       "<tr>\n",
       "  <th>Heteroskedasticity (H):</th> <td>3.67</td> <th>  Skew:              </th> <td>-0.24</td>\n",
       "</tr>\n",
       "<tr>\n",
       "  <th>Prob(H) (two-sided):</th>    <td>0.02</td> <th>  Kurtosis:          </th> <td>3.31</td> \n",
       "</tr>\n",
       "</table><br/><br/>Warnings:<br/>[1] Covariance matrix calculated using the outer product of gradients (complex-step)."
      ],
      "text/plain": [
       "<class 'statsmodels.iolib.summary.Summary'>\n",
       "\"\"\"\n",
       "                                     SARIMAX Results                                      \n",
       "==========================================================================================\n",
       "Dep. Variable:                                  y   No. Observations:                   56\n",
       "Model:             SARIMAX(2, 2, 0)x(1, 1, 0, 12)   Log Likelihood                  15.053\n",
       "Date:                            Wed, 15 Mar 2023   AIC                            -22.106\n",
       "Time:                                    17:04:00   BIC                            -15.155\n",
       "Sample:                                01-01-2018   HQIC                           -19.558\n",
       "                                     - 08-01-2022                                         \n",
       "Covariance Type:                              opg                                         \n",
       "==============================================================================\n",
       "                 coef    std err          z      P>|z|      [0.025      0.975]\n",
       "------------------------------------------------------------------------------\n",
       "ar.L1         -1.0983      0.135     -8.161      0.000      -1.362      -0.835\n",
       "ar.L2         -0.5812      0.131     -4.452      0.000      -0.837      -0.325\n",
       "ar.S.L12      -0.2710      0.182     -1.493      0.136      -0.627       0.085\n",
       "sigma2         0.0270      0.007      3.971      0.000       0.014       0.040\n",
       "===================================================================================\n",
       "Ljung-Box (L1) (Q):                   0.55   Jarque-Bera (JB):                 0.55\n",
       "Prob(Q):                              0.46   Prob(JB):                         0.76\n",
       "Heteroskedasticity (H):               3.67   Skew:                            -0.24\n",
       "Prob(H) (two-sided):                  0.02   Kurtosis:                         3.31\n",
       "===================================================================================\n",
       "\n",
       "Warnings:\n",
       "[1] Covariance matrix calculated using the outer product of gradients (complex-step).\n",
       "\"\"\""
      ]
     },
     "execution_count": 12,
     "metadata": {},
     "output_type": "execute_result"
    }
   ],
   "source": [
    "SARIMAX_model.summary()"
   ]
  },
  {
   "cell_type": "code",
   "execution_count": 13,
   "id": "eda0d522",
   "metadata": {
    "scrolled": true
   },
   "outputs": [
    {
     "name": "stderr",
     "output_type": "stream",
     "text": [
      "/Users/yuanliu/opt/anaconda3/lib/python3.9/site-packages/statsmodels/tsa/base/tsa_model.py:471: ValueWarning: No frequency information was provided, so inferred frequency MS will be used.\n",
      "  self._init_dates(dates, freq)\n",
      "/Users/yuanliu/opt/anaconda3/lib/python3.9/site-packages/statsmodels/tsa/base/tsa_model.py:471: ValueWarning: No frequency information was provided, so inferred frequency MS will be used.\n",
      "  self._init_dates(dates, freq)\n"
     ]
    }
   ],
   "source": [
    "from statsmodels.tsa.statespace.sarimax import SARIMAX\n",
    "\n",
    "model = SARIMAX(training_data['price'], exog=training_data[['NGAS_EUR', 'CRUDE_PETRO', 'UKR_QUANTITY']], order=SARIMAX_model.order, seasonal_orderiterable = SARIMAX_model.seasonal_order, enforce_invertibility=False, enforce_stationarity=False)\n",
    "\n",
    "results = model.fit(disp=0);"
   ]
  },
  {
   "cell_type": "markdown",
   "id": "6765eefc",
   "metadata": {},
   "source": [
    "Make predictions and extraact confidence intervals to calculate quantile loss function"
   ]
  },
  {
   "cell_type": "code",
   "execution_count": 14,
   "id": "c6bf2631",
   "metadata": {
    "scrolled": true
   },
   "outputs": [
    {
     "name": "stdout",
     "output_type": "stream",
     "text": [
      "Quantile Loss is:  0.48921799659729004\n"
     ]
    }
   ],
   "source": [
    "test_size = len(test_data)\n",
    "diff = 0\n",
    "exog_dat = test_data[['NGAS_EUR', 'CRUDE_PETRO', 'UKR_QUANTITY']].head(test_size - diff)\n",
    "\n",
    "predictions = results.forecast(steps=test_size-diff, exog=exog_dat)\n",
    "\n",
    "forecast = results.get_prediction(end = len(training_data) + test_size - 1, exog = test_data[['NGAS_EUR', 'CRUDE_PETRO', 'UKR_QUANTITY']])\n",
    "ci02 = forecast.conf_int(alpha = 0.02)\n",
    "ci02 = ci02.rename(columns = {\"lower price\" : \"ci02L\", \"upper price\" : \"ci02U\"})\n",
    "ci10 = forecast.conf_int(alpha = 0.10)\n",
    "ci10 = ci10.rename(columns = {\"lower price\" : \"ci10L\", \"upper price\" : \"ci10U\"})\n",
    "ci25 = forecast.conf_int(alpha = 0.5)\n",
    "ci25 = ci25.rename(columns = {\"lower price\" : \"ci25L\", \"upper price\" : \"ci25U\"})\n",
    "c50 = forecast.predicted_mean\n",
    "\n",
    "cis = ((ci02.join(ci10)).join(ci25)).join(c50)\n",
    "\n",
    "relevant_cis = cis.tail(months_to_forecast)\n",
    "\n",
    "relevant_cis_unp = relevant_cis.reset_index()\n",
    "\n",
    "preds_torch = []\n",
    "\n",
    "for i in range(len(relevant_cis_unp)):\n",
    "    preds_torch.append(sorted(relevant_cis_unp.loc[i, :].values.flatten().tolist()[1:]))\n",
    "\n",
    "target_dat = data['price'].tail(months_to_forecast)\n",
    "\n",
    "target = torch.FloatTensor(target_dat)\n",
    "y_pred = torch.FloatTensor([preds_torch])\n",
    "QLoss = torch.mean(QuantileLoss().loss(y_pred, target)).item()\n",
    "print(\"Quantile Loss is: \", QLoss)\n",
    "\n",
    "relevant_cis = relevant_cis.rename(columns={\"predicted_mean\": \"SARIMAX Prediction\"}, errors=\"raise\")\n"
   ]
  },
  {
   "cell_type": "markdown",
   "id": "20e5232a",
   "metadata": {},
   "source": [
    "# Plot Results"
   ]
  },
  {
   "cell_type": "code",
   "execution_count": 15,
   "id": "dc042b3d",
   "metadata": {
    "scrolled": true
   },
   "outputs": [
    {
     "data": {
      "text/html": [
       "<div>\n",
       "<style scoped>\n",
       "    .dataframe tbody tr th:only-of-type {\n",
       "        vertical-align: middle;\n",
       "    }\n",
       "\n",
       "    .dataframe tbody tr th {\n",
       "        vertical-align: top;\n",
       "    }\n",
       "\n",
       "    .dataframe thead th {\n",
       "        text-align: right;\n",
       "    }\n",
       "</style>\n",
       "<table border=\"1\" class=\"dataframe\">\n",
       "  <thead>\n",
       "    <tr style=\"text-align: right;\">\n",
       "      <th></th>\n",
       "      <th>ci02L</th>\n",
       "      <th>ci02U</th>\n",
       "      <th>ci10L</th>\n",
       "      <th>ci10U</th>\n",
       "      <th>ci25L</th>\n",
       "      <th>ci25U</th>\n",
       "      <th>SARIMAX Prediction</th>\n",
       "    </tr>\n",
       "  </thead>\n",
       "  <tbody>\n",
       "    <tr>\n",
       "      <th>2022-09-01</th>\n",
       "      <td>1.570627</td>\n",
       "      <td>2.239098</td>\n",
       "      <td>1.668540</td>\n",
       "      <td>2.141185</td>\n",
       "      <td>1.807956</td>\n",
       "      <td>2.001769</td>\n",
       "      <td>1.904862</td>\n",
       "    </tr>\n",
       "    <tr>\n",
       "      <th>2022-10-01</th>\n",
       "      <td>1.836033</td>\n",
       "      <td>2.798044</td>\n",
       "      <td>1.976941</td>\n",
       "      <td>2.657135</td>\n",
       "      <td>2.177578</td>\n",
       "      <td>2.456499</td>\n",
       "      <td>2.317038</td>\n",
       "    </tr>\n",
       "  </tbody>\n",
       "</table>\n",
       "</div>"
      ],
      "text/plain": [
       "               ci02L     ci02U     ci10L     ci10U     ci25L     ci25U  \\\n",
       "2022-09-01  1.570627  2.239098  1.668540  2.141185  1.807956  2.001769   \n",
       "2022-10-01  1.836033  2.798044  1.976941  2.657135  2.177578  2.456499   \n",
       "\n",
       "            SARIMAX Prediction  \n",
       "2022-09-01            1.904862  \n",
       "2022-10-01            2.317038  "
      ]
     },
     "metadata": {},
     "output_type": "display_data"
    }
   ],
   "source": [
    "display(relevant_cis)"
   ]
  },
  {
   "cell_type": "code",
   "execution_count": 16,
   "id": "6d50a142",
   "metadata": {
    "scrolled": false
   },
   "outputs": [
    {
     "data": {
      "image/png": "[encoded data removed]",
      "text/plain": [
       "<Figure size 500x500 with 1 Axes>"
      ]
     },
     "metadata": {},
     "output_type": "display_data"
    }
   ],
   "source": [
    "plt.rcParams[\"figure.figsize\"] = (5,5)\n",
    "import matplotlib.dates as mdates\n",
    "\n",
    "ax = data['price'].plot(label = 'Actual Price')\n",
    "relevant_cis[['SARIMAX Prediction']].plot(ax = ax, color = 'tab:blue', label = 'SARIMAX Prediction')\n",
    "# relevant_cis[['ci02L']].plot(ax = ax, color = 'tab:green', label = 'SARIMAX Prediction', alpha = 0.5, linestyle = '--')\n",
    "# relevant_cis[['ci02U']].plot(ax = ax, color = 'tab:green', label = 'SARIMAX Prediction')\n",
    "\n",
    "plt.xlim(\n",
    "    xmin=datetime.datetime(2021, 12, 1), # the one that doesn't change\n",
    "    xmax=datetime.datetime(2022, 10, 1) # the latest datetime in your dataset\n",
    ")\n",
    "\n",
    "plt.fill_between(relevant_cis.index, relevant_cis['ci02L'], relevant_cis['ci02U'], alpha = 0.1, color = 'tab:blue')\n",
    "plt.fill_between(relevant_cis.index, relevant_cis['ci10L'], relevant_cis['ci10U'], alpha = 0.1, color = 'tab:blue')\n",
    "plt.fill_between(relevant_cis.index, relevant_cis['ci25L'], relevant_cis['ci25U'], alpha = 0.1, color = 'tab:blue')\n",
    "\n",
    "plt.ylim(0.4, 2)\n",
    "plt.xlim(\n",
    "    xmin=datetime.datetime(2021, 12, 1),\n",
    "    xmax=datetime.datetime(2022, 10, 1) \n",
    "    )\n",
    "    \n",
    "ax.xaxis.set_major_locator(plt.MaxNLocator(5))\n",
    "ax.xaxis.set_major_formatter(mdates.DateFormatter('%Y-%m'))\n",
    "plt.axvline(datetime.datetime(2022, 2, 20), color = 'red', linestyle = '--', label = 'Invasion Russia')\n",
    "plt.xlabel('Time')\n",
    "plt.ylabel('Price')\n",
    "plt.legend(loc = 'lower right');"
   ]
  },
  {
   "cell_type": "markdown",
   "id": "11b300dc",
   "metadata": {},
   "source": [
    "Plot quantile loss comparison between TFT and SARIMAX (see result logs)"
   ]
  },
  {
   "cell_type": "code",
   "execution_count": 18,
   "id": "a5c91c41",
   "metadata": {
    "scrolled": true
   },
   "outputs": [
    {
     "data": {
      "image/png": "[encoded data removed]",
      "text/plain": [
       "<Figure size 400x400 with 1 Axes>"
      ]
     },
     "metadata": {},
     "output_type": "display_data"
    }
   ],
   "source": [
    "Validation = ['7','6', '5', '4', '3', '2']\n",
    "\n",
    "SARIMAX_WHEAT = [0.0219, 0.035, 0.011, 0.017, 0.030, 0.052]\n",
    "SARIMAX_MAIZE = [0.0485 ,0.043, 0.117, 0.025, 0.097, 0.019]\n",
    "SARIMAX_SUNFLOWER = [0.2823, 0.151, 0.237, 0.189, 0.311, 0.489]\n",
    "\n",
    "TFT_WHEAT = [0.038, 0.027, 0.015, 0.006, 0.006, 0.004]\n",
    "TFT_MAIZE = [0.044, 0.024, 0.016, 0.024, 0.018, 0.014]\n",
    "TFT_SUNFLOWER = [0.172, 0.122, 0.084, 0.065, 0.023, 0.032]\n",
    "\n",
    "plt.rcParams[\"figure.figsize\"] = (4,4)\n",
    "\n",
    "plt.ylabel('Quantile Loss')\n",
    "plt.xlabel('Validation Window Length')\n",
    "plt.plot(Validation, SARIMAX_SUNFLOWER, label = 'SARIMAX')\n",
    "plt.plot(Validation, TFT_SUNFLOWER, label = 'TFT')\n",
    "plt.legend(loc = 'upper right');\n",
    "\n"
   ]
  },
  {
   "cell_type": "code",
   "execution_count": null,
   "id": "b58ff853",
   "metadata": {
    "scrolled": true
   },
   "outputs": [],
   "source": []
  }
 ],
 "metadata": {
  "kernelspec": {
   "display_name": "Python 3 (ipykernel)",
   "language": "python",
   "name": "python3"
  },
  "language_info": {
   "codemirror_mode": {
    "name": "ipython",
    "version": 3
   },
   "file_extension": ".py",
   "mimetype": "text/x-python",
   "name": "python",
   "nbconvert_exporter": "python",
   "pygments_lexer": "ipython3",
   "version": "3.9.13"
  }
 },
 "nbformat": 4,
 "nbformat_minor": 5
}
